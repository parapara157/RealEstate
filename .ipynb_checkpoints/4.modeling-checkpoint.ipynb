{
 "cells": [
  {
   "cell_type": "code",
   "execution_count": 1,
   "metadata": {},
   "outputs": [],
   "source": [
    "import pandas as pd\n",
    "import json\n",
    "import requests\n",
    "import copy\n",
    "import matplotlib.pyplot as plt\n",
    "import xgboost as xgb\n",
    "import numpy as np\n",
    "import lightgbm as lgb\n",
    "from sklearn.model_selection import KFold\n",
    "from sklearn import model_selection, preprocessing, metrics\n",
    "import seaborn as sns\n",
    "import estateFunction"
   ]
  },
  {
   "cell_type": "code",
   "execution_count": 2,
   "metadata": {},
   "outputs": [
    {
     "data": {
      "text/plain": [
       "31"
      ]
     },
     "execution_count": 2,
     "metadata": {},
     "output_type": "execute_result"
    }
   ],
   "source": [
    "import gc \n",
    "gc.collect()"
   ]
  },
  {
   "cell_type": "code",
   "execution_count": 3,
   "metadata": {},
   "outputs": [],
   "source": [
    "###경제상황을 반영해주기 위해 각종 지수들을 넣어줌.\n",
    "\n",
    "###공동주택 실거래 가격지수 아파트 \n",
    "apartIndex=pd.read_csv(\"indexData/apartIndex.csv\",encoding=\"cp949\")\n",
    "apartIndex=list((apartIndex.iloc[10].reset_index())[10])[2:]\n",
    "###경기종합 선행 지수\n",
    "economicIndex=pd.read_csv(\"indexData/economicPredictionIndex.csv\",encoding=\"cp949\")\n",
    "economicIndex=list((economicIndex.iloc[10].reset_index()[10])[1:])\n",
    "###생산자 물가 지수\n",
    "produceIndex=pd.read_csv(\"indexData/produceIndex.csv\",encoding=\"cp949\")\n",
    "produceIndex=list((produceIndex.iloc[10].reset_index()[10])[1:])\n",
    "###소비자 물가 지수\n",
    "spendIndex=pd.read_csv(\"indexData/spendIndex.csv\",encoding=\"cp949\")\n",
    "spendIndex=list((spendIndex.iloc[10].reset_index()[10])[1:])"
   ]
  },
  {
   "cell_type": "code",
   "execution_count": 4,
   "metadata": {},
   "outputs": [],
   "source": [
    "###2018/12데이터를 예측하므로 2018/11까지 있어야됨\n",
    "###2018/12데이터에는 2018/11데이터넣음\n",
    "###2010/01데이터에는 2009/12데이터넣음\n",
    "def makeApartIndex(x):\n",
    "    index=(x-201001)//100*12+(x-201001)%100\n",
    "    return apartIndex[index]\n",
    "def makeEconomicIndex(x):\n",
    "    index=(x-201001)//100*12+(x-201001)%100\n",
    "    return economicIndex[index]\n",
    "def makeSpendIndex(x):\n",
    "    index=(x-201001)//100*12+(x-201001)%100\n",
    "    return spendIndex[index]\n",
    "def makeProduceIndex(x):\n",
    "    index=(x-201001)//100*12+(x-201001)%100\n",
    "    return produceIndex[index]"
   ]
  },
  {
   "cell_type": "code",
   "execution_count": 5,
   "metadata": {},
   "outputs": [],
   "source": [
    "kfoldData=pd.read_csv(\"dataAfterPreprocess/finaltrain\")  \n",
    "kfoldTarget=kfoldData['거래금액(만원)']\n",
    "#target값 삭제해주고 나머지 변수들은 훈련에 사용될 수 없음\n",
    "del kfoldData['거래금액(만원)']\n",
    "del kfoldData['시군구']\n",
    "del kfoldData['번지']\n",
    "del kfoldData['본번']\n",
    "del kfoldData['부번']\n",
    "###object에서 category로 바꾸어주어야함\n",
    "kfoldData['단지명']=kfoldData['단지명'].astype('category')\n",
    "kfoldData['도로명']=kfoldData['도로명'].astype('category')\n",
    "kfoldData['big']=kfoldData['big'].astype('category')\n",
    "kfoldData['small']=kfoldData['small'].astype('category')"
   ]
  },
  {
   "cell_type": "code",
   "execution_count": 6,
   "metadata": {},
   "outputs": [],
   "source": [
    "kfoldData['apartIndex']=kfoldData['계약년월'].apply(makeApartIndex).astype('float')\n",
    "kfoldData['economicIndex']=kfoldData['계약년월'].apply(makeEconomicIndex).astype('float')\n",
    "kfoldData['spendIndex']=kfoldData['계약년월'].apply(makeSpendIndex).astype('float')\n",
    "kfoldData['produceIndex']=kfoldData['계약년월'].apply(makeProduceIndex).astype('float')"
   ]
  },
  {
   "cell_type": "code",
   "execution_count": 7,
   "metadata": {},
   "outputs": [],
   "source": [
    "kfoldTest=pd.read_csv(\"dataAfterPreprocess/finaltest\")\n",
    "testTarget=kfoldTest[\"거래금액(만원)\"]/kfoldTest['전용면적(㎡)']\n",
    "#target값 삭제해주고 나머지 변수들은 훈련에 사용될 수 없음\n",
    "del kfoldTest['거래금액(만원)']\n",
    "del kfoldTest['시군구']\n",
    "del kfoldTest['번지']\n",
    "del kfoldTest['본번']\n",
    "del kfoldTest['부번']\n",
    "del kfoldTest['공시가격']\n",
    "del kfoldTest['공시가격(만원)']\n",
    "###object에서 category로 바꾸어주어야함\n",
    "kfoldTest['단지명']=kfoldTest['단지명'].astype('category')\n",
    "kfoldTest['도로명']=kfoldTest['도로명'].astype('category')\n",
    "kfoldTest['big']=kfoldTest['big'].astype('category')\n",
    "kfoldTest['small']=kfoldTest['small'].astype('category')"
   ]
  },
  {
   "cell_type": "code",
   "execution_count": 8,
   "metadata": {},
   "outputs": [],
   "source": [
    "kfoldTest['apartIndex']=kfoldTest['계약년월'].apply(makeApartIndex).astype('float')\n",
    "kfoldTest['economicIndex']=kfoldTest['계약년월'].apply(makeEconomicIndex).astype('float')\n",
    "kfoldTest['spendIndex']=kfoldTest['계약년월'].apply(makeSpendIndex).astype('float')\n",
    "kfoldTest['produceIndex']=kfoldTest['계약년월'].apply(makeProduceIndex).astype('float')"
   ]
  },
  {
   "cell_type": "code",
   "execution_count": 9,
   "metadata": {},
   "outputs": [],
   "source": [
    "kfoldData.columns=['Apart name','USM','Sold date','Storey','Build year','Street name','latitude','longitude','District','dong',\n",
    "                   'Sold month','Apart index','Leading index','Consumer index', 'Producer index']\n",
    "kfoldTest.columns=['Apart name','USM','Sold date','Storey','Build year','Street name','latitude','longitude','District','dong',\n",
    "                   'Sold month','Apart index','Leading index','Consumer index', 'Producer index']\n",
    "###ppsm으로 고쳐줘야 되므로\n",
    "kfoldTarget=kfoldTarget/kfoldData['USM']"
   ]
  },
  {
   "cell_type": "code",
   "execution_count": 10,
   "metadata": {},
   "outputs": [
    {
     "data": {
      "text/plain": [
       "(554312, 554312, 1393, 1393)"
      ]
     },
     "execution_count": 10,
     "metadata": {},
     "output_type": "execute_result"
    }
   ],
   "source": [
    "len(kfoldData),len(kfoldTarget),len(kfoldTest),len(testTarget)"
   ]
  },
  {
   "cell_type": "code",
   "execution_count": 11,
   "metadata": {},
   "outputs": [],
   "source": [
    "SST=sum((testTarget-np.mean(testTarget))**2)"
   ]
  },
  {
   "cell_type": "code",
   "execution_count": 12,
   "metadata": {},
   "outputs": [],
   "source": [
    "###big제외하고 원핫인코딩하기에는 너무 많다.\n",
    "kfoldDataWithBig=copy.deepcopy(kfoldData)\n",
    "kfoldTestWithBig=copy.deepcopy(kfoldTest)\n",
    "del kfoldDataWithBig['Apart name']\n",
    "del kfoldDataWithBig['Street name']\n",
    "del kfoldDataWithBig['dong']\n",
    "del kfoldTestWithBig['Apart name']\n",
    "del kfoldTestWithBig['Street name']\n",
    "del kfoldTestWithBig['dong']"
   ]
  },
  {
   "cell_type": "code",
   "execution_count": 13,
   "metadata": {},
   "outputs": [],
   "source": [
    "cat_features = ['District'] \n",
    "\n",
    "for column in cat_features:\n",
    "    temp = pd.get_dummies(pd.Series(kfoldDataWithBig[column])) \n",
    "    kfoldDataWithBig = pd.concat([kfoldDataWithBig,temp],axis=1) \n",
    "    kfoldDataWithBig = kfoldDataWithBig.drop([column],axis=1) \n",
    "\n",
    "for column in cat_features: \n",
    "    temp = pd.get_dummies(pd.Series(kfoldTestWithBig[column])) \n",
    "    kfoldTestWithBig = pd.concat([kfoldTestWithBig,temp],axis=1) \n",
    "    kfoldTestWithBig = kfoldTestWithBig.drop([column],axis=1)"
   ]
  },
  {
   "cell_type": "code",
   "execution_count": 14,
   "metadata": {},
   "outputs": [
    {
     "name": "stdout",
     "output_type": "stream",
     "text": [
      "Wall time: 2.16 s\n"
     ]
    },
    {
     "data": {
      "text/plain": [
       "(-131192.15449393567,\n",
       " array([-1.16479458e+00,  7.77454988e-02,  5.84953234e+00,  1.18272560e+00,\n",
       "         1.51192143e+03,  4.53427989e+02,  1.01912973e+00,  9.71996600e-01,\n",
       "         2.50740539e+01, -4.72872807e+01,  1.57624570e+01,  6.09856443e+02,\n",
       "        -4.78333598e+01, -3.08584535e+02, -3.66521102e+01,  1.40682899e+01,\n",
       "         5.48852010e+01, -2.48995873e+01, -2.73540415e+01, -3.43446120e+02,\n",
       "        -3.92116847e+02, -1.92632758e+02,  1.25412681e+02,  1.01796672e+02,\n",
       "        -1.07887041e+02,  4.99537808e+02,  5.69988991e+01, -2.20765511e+02,\n",
       "         2.65974723e+02,  1.18365738e+02,  7.92028254e+01,  3.00958412e+02,\n",
       "        -1.87463938e+02, -3.57760689e+01,  5.11911551e+00, -3.06764890e+02]))"
      ]
     },
     "execution_count": 14,
     "metadata": {},
     "output_type": "execute_result"
    }
   ],
   "source": [
    "%%time\n",
    "#OLS\n",
    "from sklearn.linear_model import LinearRegression\n",
    "reg=LinearRegression()\n",
    "reg.fit(kfoldDataWithBig,kfoldTarget)\n",
    "olsPre=reg.predict(kfoldTestWithBig)\n",
    "olsOof=reg.predict(kfoldDataWithBig)\n",
    "reg.intercept_,reg.coef_"
   ]
  },
  {
   "cell_type": "code",
   "execution_count": 15,
   "metadata": {},
   "outputs": [
    {
     "data": {
      "text/plain": [
       "count    1393.000000\n",
       "mean       18.668295\n",
       "std        16.988034\n",
       "min         0.014343\n",
       "25%         6.556310\n",
       "50%        14.655353\n",
       "75%        25.470564\n",
       "max       162.819954\n",
       "dtype: float64"
      ]
     },
     "execution_count": 15,
     "metadata": {},
     "output_type": "execute_result"
    }
   ],
   "source": [
    "(abs(testTarget-olsPre)/testTarget*100).describe()"
   ]
  },
  {
   "cell_type": "code",
   "execution_count": 16,
   "metadata": {},
   "outputs": [
    {
     "data": {
      "text/plain": [
       "0.6481738097326828"
      ]
     },
     "execution_count": 16,
     "metadata": {},
     "output_type": "execute_result"
    }
   ],
   "source": [
    "1-sum((testTarget-olsPre)**2)/SST"
   ]
  },
  {
   "cell_type": "code",
   "execution_count": 17,
   "metadata": {},
   "outputs": [
    {
     "name": "stdout",
     "output_type": "stream",
     "text": [
      "0\n",
      "1\n",
      "2\n",
      "3\n",
      "4\n",
      "Wall time: 24min 22s\n"
     ]
    }
   ],
   "source": [
    "%%time\n",
    "###randomforest 단일모델\n",
    "from sklearn.ensemble import RandomForestRegressor\n",
    "rfOof = np.zeros(len(kfoldDataWithBig))\n",
    "rfPre = np.zeros(len(kfoldTestWithBig)) \n",
    "folds=KFold(n_splits=5,shuffle=True,random_state=15)\n",
    "\n",
    "for n_fold, (trn_idx, val_idx) in enumerate(folds.split(kfoldDataWithBig,kfoldTarget)) : \n",
    "    print(n_fold)\n",
    "    trn_x, trn_y = kfoldDataWithBig.iloc[trn_idx], kfoldTarget[trn_idx] \n",
    "    val_x, val_y = kfoldDataWithBig.iloc[val_idx], kfoldTarget[val_idx] \n",
    "    ranFo=RandomForestRegressor(n_estimators=200, max_depth=50, n_jobs=-1)\n",
    "    ranFo.fit(trn_x,trn_y)\n",
    "    \n",
    "    rfOof[val_idx]=ranFo.predict(val_x)\n",
    "    rfPre+=ranFo.predict(kfoldTestWithBig)/folds.n_splits"
   ]
  },
  {
   "cell_type": "code",
   "execution_count": 21,
   "metadata": {},
   "outputs": [
    {
     "data": {
      "text/plain": [
       "count    1393.000000\n",
       "mean        4.630240\n",
       "std         5.797320\n",
       "min         0.007272\n",
       "25%         1.336847\n",
       "50%         3.100083\n",
       "75%         5.791577\n",
       "max        73.931918\n",
       "dtype: float64"
      ]
     },
     "execution_count": 21,
     "metadata": {},
     "output_type": "execute_result"
    }
   ],
   "source": [
    "(abs(testTarget-rfPre)/testTarget*100).describe()"
   ]
  },
  {
   "cell_type": "code",
   "execution_count": 26,
   "metadata": {},
   "outputs": [
    {
     "data": {
      "text/plain": [
       "0.970668692266536"
      ]
     },
     "execution_count": 26,
     "metadata": {},
     "output_type": "execute_result"
    }
   ],
   "source": [
    "1-sum((testTarget-rfPre)**2)/SST"
   ]
  },
  {
   "cell_type": "code",
   "execution_count": null,
   "metadata": {},
   "outputs": [],
   "source": [
    "###xgboost 단일모델 \n",
    "xgboost.train(params, dtrain, num_boost_round=10, \n",
    "              evals=(), obj=None, feval=None, maximize=False, early_stopping_rounds=None, \n",
    "              evals_result=None, verbose_eval=True, xgb_model=None, callbacks=None, learning_rates=None)\n",
    "evals (list of pairs (DMatrix, string)) – List of validation sets for which metrics will evaluated during training. \n",
    "Validation metrics will help us track the performance of the model."
   ]
  },
  {
   "cell_type": "code",
   "execution_count": 46,
   "metadata": {},
   "outputs": [
    {
     "name": "stdout",
     "output_type": "stream",
     "text": [
      "[12:45:47] WARNING: C:/Jenkins/workspace/xgboost-win64_release_0.90/src/objective/regression_obj.cu:152: reg:linear is now deprecated in favor of reg:squarederror.\n",
      "[0]\ttrain-mae:581.047\tvalid-mae:581.987\n",
      "Multiple eval metrics have been passed: 'valid-mae' will be used for early stopping.\n",
      "\n",
      "Will train until valid-mae hasn't improved in 500 rounds.\n",
      "[100]\ttrain-mae:33.5115\tvalid-mae:37.0338\n",
      "[200]\ttrain-mae:27.5186\tvalid-mae:32.2746\n",
      "[300]\ttrain-mae:24.3802\tvalid-mae:30.0896\n",
      "[400]\ttrain-mae:22.2283\tvalid-mae:28.7695\n",
      "[500]\ttrain-mae:20.5777\tvalid-mae:27.9005\n",
      "[600]\ttrain-mae:19.3611\tvalid-mae:27.3474\n",
      "[700]\ttrain-mae:18.2583\tvalid-mae:26.8767\n",
      "[800]\ttrain-mae:17.3057\tvalid-mae:26.5219\n",
      "[900]\ttrain-mae:16.4909\tvalid-mae:26.2684\n",
      "[1000]\ttrain-mae:15.737\tvalid-mae:26.0739\n",
      "[1100]\ttrain-mae:15.0532\tvalid-mae:25.9151\n",
      "[1200]\ttrain-mae:14.3738\tvalid-mae:25.7849\n",
      "[1300]\ttrain-mae:13.8007\tvalid-mae:25.6891\n",
      "[1400]\ttrain-mae:13.2192\tvalid-mae:25.6085\n",
      "[1500]\ttrain-mae:12.7038\tvalid-mae:25.5495\n",
      "[1600]\ttrain-mae:12.2022\tvalid-mae:25.5092\n",
      "[1700]\ttrain-mae:11.7519\tvalid-mae:25.4625\n",
      "[1800]\ttrain-mae:11.2972\tvalid-mae:25.4341\n",
      "[1900]\ttrain-mae:10.866\tvalid-mae:25.4176\n",
      "[2000]\ttrain-mae:10.4496\tvalid-mae:25.4069\n",
      "[2100]\ttrain-mae:10.0444\tvalid-mae:25.4103\n",
      "[2200]\ttrain-mae:9.67382\tvalid-mae:25.406\n",
      "[2300]\ttrain-mae:9.29187\tvalid-mae:25.4095\n",
      "[2400]\ttrain-mae:8.93864\tvalid-mae:25.4146\n",
      "[2500]\ttrain-mae:8.59296\tvalid-mae:25.4221\n",
      "[2600]\ttrain-mae:8.25651\tvalid-mae:25.4362\n",
      "[2700]\ttrain-mae:7.94008\tvalid-mae:25.4506\n",
      "Stopping. Best iteration:\n",
      "[2240]\ttrain-mae:9.53017\tvalid-mae:25.4028\n",
      "\n",
      "[13:07:25] WARNING: C:/Jenkins/workspace/xgboost-win64_release_0.90/src/objective/regression_obj.cu:152: reg:linear is now deprecated in favor of reg:squarederror.\n",
      "[0]\ttrain-mae:581.227\tvalid-mae:581.304\n",
      "Multiple eval metrics have been passed: 'valid-mae' will be used for early stopping.\n",
      "\n",
      "Will train until valid-mae hasn't improved in 500 rounds.\n",
      "[100]\ttrain-mae:33.657\tvalid-mae:37.3318\n",
      "[200]\ttrain-mae:27.4227\tvalid-mae:32.2652\n",
      "[300]\ttrain-mae:24.3824\tvalid-mae:30.1113\n",
      "[400]\ttrain-mae:22.2169\tvalid-mae:28.7719\n",
      "[500]\ttrain-mae:20.6371\tvalid-mae:27.9257\n",
      "[600]\ttrain-mae:19.3445\tvalid-mae:27.3171\n",
      "[700]\ttrain-mae:18.2664\tvalid-mae:26.8887\n",
      "[800]\ttrain-mae:17.3563\tvalid-mae:26.5633\n",
      "[900]\ttrain-mae:16.4876\tvalid-mae:26.2879\n",
      "[1000]\ttrain-mae:15.7565\tvalid-mae:26.0927\n",
      "[1100]\ttrain-mae:15.0676\tvalid-mae:25.9354\n",
      "[1200]\ttrain-mae:14.4365\tvalid-mae:25.8051\n",
      "[1300]\ttrain-mae:13.865\tvalid-mae:25.6999\n",
      "[1400]\ttrain-mae:13.3346\tvalid-mae:25.6317\n",
      "[1500]\ttrain-mae:12.82\tvalid-mae:25.5669\n",
      "[1600]\ttrain-mae:12.3355\tvalid-mae:25.521\n",
      "[1700]\ttrain-mae:11.8294\tvalid-mae:25.4811\n",
      "[1800]\ttrain-mae:11.3486\tvalid-mae:25.4535\n",
      "[1900]\ttrain-mae:10.9144\tvalid-mae:25.4358\n",
      "[2000]\ttrain-mae:10.4915\tvalid-mae:25.4254\n",
      "[2100]\ttrain-mae:10.0891\tvalid-mae:25.4193\n",
      "[2200]\ttrain-mae:9.71913\tvalid-mae:25.4162\n",
      "[2300]\ttrain-mae:9.34208\tvalid-mae:25.4201\n",
      "[2400]\ttrain-mae:8.99143\tvalid-mae:25.4233\n",
      "[2500]\ttrain-mae:8.64954\tvalid-mae:25.4349\n",
      "[2600]\ttrain-mae:8.32392\tvalid-mae:25.4501\n",
      "[2700]\ttrain-mae:8.02354\tvalid-mae:25.4636\n",
      "Stopping. Best iteration:\n",
      "[2222]\ttrain-mae:9.63366\tvalid-mae:25.4156\n",
      "\n",
      "[13:28:14] WARNING: C:/Jenkins/workspace/xgboost-win64_release_0.90/src/objective/regression_obj.cu:152: reg:linear is now deprecated in favor of reg:squarederror.\n",
      "[0]\ttrain-mae:581.607\tvalid-mae:579.68\n",
      "Multiple eval metrics have been passed: 'valid-mae' will be used for early stopping.\n",
      "\n",
      "Will train until valid-mae hasn't improved in 500 rounds.\n",
      "[100]\ttrain-mae:34.3802\tvalid-mae:38.0341\n",
      "[200]\ttrain-mae:27.8747\tvalid-mae:32.8538\n",
      "[300]\ttrain-mae:24.674\tvalid-mae:30.6066\n",
      "[400]\ttrain-mae:22.488\tvalid-mae:29.2414\n",
      "[500]\ttrain-mae:20.8966\tvalid-mae:28.4\n",
      "[600]\ttrain-mae:19.582\tvalid-mae:27.7559\n",
      "[700]\ttrain-mae:18.4414\tvalid-mae:27.2804\n",
      "[800]\ttrain-mae:17.4682\tvalid-mae:26.9119\n",
      "[900]\ttrain-mae:16.6306\tvalid-mae:26.635\n",
      "[1000]\ttrain-mae:15.8358\tvalid-mae:26.4266\n",
      "[1100]\ttrain-mae:15.1549\tvalid-mae:26.2571\n",
      "[1200]\ttrain-mae:14.5162\tvalid-mae:26.1225\n",
      "[1300]\ttrain-mae:13.947\tvalid-mae:26.016\n",
      "[1400]\ttrain-mae:13.3763\tvalid-mae:25.9295\n",
      "[1500]\ttrain-mae:12.8217\tvalid-mae:25.8593\n",
      "[1600]\ttrain-mae:12.3056\tvalid-mae:25.8115\n",
      "[1700]\ttrain-mae:11.8138\tvalid-mae:25.7704\n",
      "[1800]\ttrain-mae:11.3669\tvalid-mae:25.7458\n",
      "[1900]\ttrain-mae:10.9352\tvalid-mae:25.7312\n",
      "[2000]\ttrain-mae:10.4979\tvalid-mae:25.7145\n",
      "[2100]\ttrain-mae:10.1179\tvalid-mae:25.7059\n",
      "[2200]\ttrain-mae:9.7403\tvalid-mae:25.7002\n",
      "[2300]\ttrain-mae:9.39372\tvalid-mae:25.705\n",
      "[2400]\ttrain-mae:9.04364\tvalid-mae:25.7097\n",
      "[2500]\ttrain-mae:8.70842\tvalid-mae:25.7184\n",
      "[2600]\ttrain-mae:8.37079\tvalid-mae:25.7331\n",
      "Stopping. Best iteration:\n",
      "[2176]\ttrain-mae:9.83388\tvalid-mae:25.6989\n",
      "\n",
      "[13:48:42] WARNING: C:/Jenkins/workspace/xgboost-win64_release_0.90/src/objective/regression_obj.cu:152: reg:linear is now deprecated in favor of reg:squarederror.\n",
      "[0]\ttrain-mae:581.203\tvalid-mae:581.289\n",
      "Multiple eval metrics have been passed: 'valid-mae' will be used for early stopping.\n",
      "\n",
      "Will train until valid-mae hasn't improved in 500 rounds.\n",
      "[100]\ttrain-mae:34.5084\tvalid-mae:38.1041\n",
      "[200]\ttrain-mae:28.0393\tvalid-mae:32.8211\n",
      "[300]\ttrain-mae:24.7061\tvalid-mae:30.4711\n",
      "[400]\ttrain-mae:22.432\tvalid-mae:29.0657\n",
      "[500]\ttrain-mae:20.7872\tvalid-mae:28.1581\n",
      "[600]\ttrain-mae:19.5845\tvalid-mae:27.6045\n",
      "[700]\ttrain-mae:18.4013\tvalid-mae:27.0925\n",
      "[800]\ttrain-mae:17.4868\tvalid-mae:26.781\n",
      "[900]\ttrain-mae:16.6159\tvalid-mae:26.4923\n",
      "[1000]\ttrain-mae:15.8755\tvalid-mae:26.2891\n",
      "[1100]\ttrain-mae:15.1489\tvalid-mae:26.1309\n",
      "[1200]\ttrain-mae:14.4935\tvalid-mae:25.9964\n",
      "[1300]\ttrain-mae:13.8829\tvalid-mae:25.9\n",
      "[1400]\ttrain-mae:13.3319\tvalid-mae:25.817\n",
      "[1500]\ttrain-mae:12.7944\tvalid-mae:25.751\n",
      "[1600]\ttrain-mae:12.2526\tvalid-mae:25.6989\n",
      "[1700]\ttrain-mae:11.7509\tvalid-mae:25.6665\n",
      "[1800]\ttrain-mae:11.2932\tvalid-mae:25.6353\n",
      "[1900]\ttrain-mae:10.8476\tvalid-mae:25.615\n",
      "[2000]\ttrain-mae:10.4473\tvalid-mae:25.6016\n",
      "[2100]\ttrain-mae:10.0666\tvalid-mae:25.597\n",
      "[2200]\ttrain-mae:9.68541\tvalid-mae:25.5938\n",
      "[2300]\ttrain-mae:9.32235\tvalid-mae:25.5952\n",
      "[2400]\ttrain-mae:8.96109\tvalid-mae:25.6023\n",
      "[2500]\ttrain-mae:8.60961\tvalid-mae:25.6123\n",
      "[2600]\ttrain-mae:8.28659\tvalid-mae:25.6236\n",
      "[2700]\ttrain-mae:7.97996\tvalid-mae:25.6357\n",
      "Stopping. Best iteration:\n",
      "[2209]\ttrain-mae:9.65586\tvalid-mae:25.5929\n",
      "\n",
      "[14:09:20] WARNING: C:/Jenkins/workspace/xgboost-win64_release_0.90/src/objective/regression_obj.cu:152: reg:linear is now deprecated in favor of reg:squarederror.\n",
      "[0]\ttrain-mae:581.081\tvalid-mae:581.906\n",
      "Multiple eval metrics have been passed: 'valid-mae' will be used for early stopping.\n",
      "\n",
      "Will train until valid-mae hasn't improved in 500 rounds.\n",
      "[100]\ttrain-mae:34.5875\tvalid-mae:38.1413\n",
      "[200]\ttrain-mae:28.2426\tvalid-mae:32.9708\n",
      "[300]\ttrain-mae:24.81\tvalid-mae:30.4728\n",
      "[400]\ttrain-mae:22.5351\tvalid-mae:29.0803\n",
      "[500]\ttrain-mae:20.8342\tvalid-mae:28.16\n",
      "[600]\ttrain-mae:19.6012\tvalid-mae:27.6107\n",
      "[700]\ttrain-mae:18.4794\tvalid-mae:27.12\n",
      "[800]\ttrain-mae:17.5358\tvalid-mae:26.742\n",
      "[900]\ttrain-mae:16.6776\tvalid-mae:26.4619\n",
      "[1000]\ttrain-mae:15.9352\tvalid-mae:26.2628\n",
      "[1100]\ttrain-mae:15.2036\tvalid-mae:26.0904\n",
      "[1200]\ttrain-mae:14.5409\tvalid-mae:25.9551\n",
      "[1300]\ttrain-mae:13.9241\tvalid-mae:25.8371\n",
      "[1400]\ttrain-mae:13.3365\tvalid-mae:25.7589\n",
      "[1500]\ttrain-mae:12.7954\tvalid-mae:25.7016\n",
      "[1600]\ttrain-mae:12.2692\tvalid-mae:25.6441\n",
      "[1700]\ttrain-mae:11.7916\tvalid-mae:25.5984\n",
      "[1800]\ttrain-mae:11.3157\tvalid-mae:25.5719\n",
      "[1900]\ttrain-mae:10.8313\tvalid-mae:25.5577\n",
      "[2000]\ttrain-mae:10.4362\tvalid-mae:25.5461\n",
      "[2100]\ttrain-mae:10.0432\tvalid-mae:25.5387\n",
      "[2200]\ttrain-mae:9.67177\tvalid-mae:25.5353\n",
      "[2300]\ttrain-mae:9.30837\tvalid-mae:25.5352\n",
      "[2400]\ttrain-mae:8.95111\tvalid-mae:25.5424\n",
      "[2500]\ttrain-mae:8.58874\tvalid-mae:25.5565\n",
      "[2600]\ttrain-mae:8.27497\tvalid-mae:25.5664\n",
      "Stopping. Best iteration:\n",
      "[2183]\ttrain-mae:9.73999\tvalid-mae:25.5332\n",
      "\n",
      "Wall time: 1h 43min 48s\n"
     ]
    }
   ],
   "source": [
    "%%time\n",
    "###범주형 변수 big만 남겼음\n",
    "###속도가 빨라짐\n",
    "xgbOof = np.zeros(len(kfoldDataWithBig))\n",
    "xgbPre = np.zeros(len(kfoldTestWithBig)) \n",
    "folds=KFold(n_splits=5,shuffle=True,random_state=15)\n",
    "for n_fold, (trn_idx, val_idx) in enumerate(folds.split(kfoldDataWithBig,kfoldTarget)) : \n",
    "    trn_x, trn_y = kfoldDataWithBig.iloc[trn_idx], kfoldTarget[trn_idx] \n",
    "    val_x, val_y = kfoldDataWithBig.iloc[val_idx], kfoldTarget[val_idx] \n",
    "    params = {'objective': 'reg:linear', \n",
    "              'booster':'gbtree',                   ###Tree base 모델\n",
    "              'eval_metric': 'mae', \n",
    "              'eta': 0.1,           ###학습속도 일반적으로 0.01~0.2\n",
    "              'max_depth': 11,    ###트리 최대깊이 일반적으로 3~10\n",
    "              'subsample': 0.9,    ###각 트리마다 관측 데이터 샘플링 비율 0.5~1\n",
    "              'colsample_bytree': 0.9,   ###각 트리마다 변수 샘플링 비율 0.5~1\n",
    "              'alpha':0.001,                    ###규제항 \n",
    "              'random_state': 42, \n",
    "              'verbosity': 1}                ###동작메시지 출력\n",
    "    tr_data = xgb.DMatrix(trn_x, trn_y) \n",
    "    va_data = xgb.DMatrix(val_x, val_y) \n",
    "    watchlist = [(tr_data, 'train'), (va_data, 'valid')] \n",
    "    model_xgb = xgb.train(params, tr_data, 10000, watchlist, maximize=False, early_stopping_rounds = 500, verbose_eval=100) \n",
    "    \n",
    "    test_data = xgb.DMatrix(kfoldTestWithBig) \n",
    "    xgbPre += model_xgb.predict(test_data) / folds.n_splits \n",
    "    xgbOof[val_idx] = model_xgb.predict(va_data)"
   ]
  },
  {
   "cell_type": "code",
   "execution_count": 47,
   "metadata": {},
   "outputs": [
    {
     "data": {
      "text/plain": [
       "count    1393.000000\n",
       "mean        3.980424\n",
       "std         5.250533\n",
       "min         0.000224\n",
       "25%         1.279435\n",
       "50%         2.775165\n",
       "75%         5.040847\n",
       "max       101.525927\n",
       "dtype: float64"
      ]
     },
     "execution_count": 47,
     "metadata": {},
     "output_type": "execute_result"
    }
   ],
   "source": [
    "(abs(testTarget-xgbPre)/testTarget*100).describe()"
   ]
  },
  {
   "cell_type": "code",
   "execution_count": 48,
   "metadata": {},
   "outputs": [
    {
     "data": {
      "text/plain": [
       "0.9808851311094067"
      ]
     },
     "execution_count": 48,
     "metadata": {},
     "output_type": "execute_result"
    }
   ],
   "source": [
    "1-sum((testTarget-xgbPre)**2)/SST"
   ]
  },
  {
   "cell_type": "code",
   "execution_count": 49,
   "metadata": {},
   "outputs": [],
   "source": [
    "###lightgbm 파라미터\n",
    "param = {'num_leaves': 200,                 #default=31\n",
    "         'min_data_in_leaf': 10,            #default=20\n",
    "         'objective':'regression',\n",
    "         'max_depth': -1,\n",
    "         'learning_rate': 0.1,           ###트리만들때마다 0.01 씩 가중치 곱함\n",
    "         \"boosting\": \"gbdt\",                ###워래 우리가 아는 gbdt 씀\n",
    "         \"feature_fraction\": 0.9,          ###변수 90%만 쓰게됨\n",
    "         \"bagging_freq\": 1,                 ###bagging 의빈도\n",
    "         \"bagging_fraction\": 0.9,        ###데이터를 90%만 쓰게됨 resampling 없이\n",
    "         \"bagging_seed\": 11,              ###bagging 을 위한 seed\n",
    "         \"metric\": 'mae',\n",
    "         \"lambda_l1\": 0.1,                  ###오메가 항에서 람다 말할는거임 가중치 옆에 붙는 weights 숫자가 클수록 보수적\n",
    "         \"verbosity\": -1}                      ###보수적이라는말은 트리생성을 잘안할려고함"
   ]
  },
  {
   "cell_type": "code",
   "execution_count": 50,
   "metadata": {},
   "outputs": [],
   "source": [
    "#lightgbm단일모델인데 범주형 변수 제외하고 이거는 가변수 쓰지말고 그냥 big 그대로 쓰자\n",
    "lightgbmOof=np.zeros(len(kfoldDataWithBig))\n",
    "lightgbmPre=np.zeros(len(kfoldTestWithBig))\n",
    "kfoldData2=copy.deepcopy(kfoldData)\n",
    "kfoldTest2=copy.deepcopy(kfoldTest)\n",
    "del kfoldData2['Apart name']\n",
    "del kfoldData2['Street name']\n",
    "del kfoldData2['dong']\n",
    "del kfoldTest2['Apart name']\n",
    "del kfoldTest2['Street name']\n",
    "del kfoldTest2['dong']"
   ]
  },
  {
   "cell_type": "code",
   "execution_count": 51,
   "metadata": {
    "scrolled": true
   },
   "outputs": [
    {
     "name": "stdout",
     "output_type": "stream",
     "text": [
      "-\n",
      "Fold 1\n",
      "Training until validation scores don't improve for 300 rounds\n",
      "[100]\tvalid_0's l1: 44.5463\n",
      "[200]\tvalid_0's l1: 37.7842\n",
      "[300]\tvalid_0's l1: 34.9965\n",
      "[400]\tvalid_0's l1: 32.9447\n",
      "[500]\tvalid_0's l1: 31.6433\n",
      "[600]\tvalid_0's l1: 30.7455\n",
      "[700]\tvalid_0's l1: 30.0013\n",
      "[800]\tvalid_0's l1: 29.4665\n",
      "[900]\tvalid_0's l1: 28.9819\n",
      "[1000]\tvalid_0's l1: 28.6513\n",
      "[1100]\tvalid_0's l1: 28.3562\n",
      "[1200]\tvalid_0's l1: 28.0985\n",
      "[1300]\tvalid_0's l1: 27.8672\n",
      "[1400]\tvalid_0's l1: 27.7118\n",
      "[1500]\tvalid_0's l1: 27.5671\n",
      "[1600]\tvalid_0's l1: 27.4591\n",
      "[1700]\tvalid_0's l1: 27.3463\n",
      "[1800]\tvalid_0's l1: 27.2584\n",
      "[1900]\tvalid_0's l1: 27.1926\n",
      "[2000]\tvalid_0's l1: 27.1301\n",
      "[2100]\tvalid_0's l1: 27.0587\n",
      "[2200]\tvalid_0's l1: 27.0021\n",
      "[2300]\tvalid_0's l1: 26.9552\n",
      "[2400]\tvalid_0's l1: 26.9107\n",
      "[2500]\tvalid_0's l1: 26.8766\n",
      "[2600]\tvalid_0's l1: 26.8342\n",
      "[2700]\tvalid_0's l1: 26.795\n",
      "[2800]\tvalid_0's l1: 26.7548\n",
      "[2900]\tvalid_0's l1: 26.7286\n",
      "[3000]\tvalid_0's l1: 26.7116\n",
      "[3100]\tvalid_0's l1: 26.69\n",
      "[3200]\tvalid_0's l1: 26.669\n",
      "[3300]\tvalid_0's l1: 26.6593\n",
      "[3400]\tvalid_0's l1: 26.6415\n",
      "[3500]\tvalid_0's l1: 26.627\n",
      "[3600]\tvalid_0's l1: 26.616\n",
      "[3700]\tvalid_0's l1: 26.6113\n",
      "[3800]\tvalid_0's l1: 26.605\n",
      "[3900]\tvalid_0's l1: 26.6035\n",
      "[4000]\tvalid_0's l1: 26.5917\n",
      "[4100]\tvalid_0's l1: 26.5896\n",
      "[4200]\tvalid_0's l1: 26.5838\n",
      "[4300]\tvalid_0's l1: 26.5766\n",
      "[4400]\tvalid_0's l1: 26.5819\n",
      "[4500]\tvalid_0's l1: 26.5808\n",
      "[4600]\tvalid_0's l1: 26.5819\n",
      "Early stopping, best iteration is:\n",
      "[4300]\tvalid_0's l1: 26.5766\n",
      "-\n",
      "Fold 2\n",
      "Training until validation scores don't improve for 300 rounds\n",
      "[100]\tvalid_0's l1: 44.121\n",
      "[200]\tvalid_0's l1: 37.7511\n",
      "[300]\tvalid_0's l1: 34.6516\n",
      "[400]\tvalid_0's l1: 32.8181\n",
      "[500]\tvalid_0's l1: 31.5147\n",
      "[600]\tvalid_0's l1: 30.6539\n",
      "[700]\tvalid_0's l1: 29.8898\n",
      "[800]\tvalid_0's l1: 29.3252\n",
      "[900]\tvalid_0's l1: 28.8684\n",
      "[1000]\tvalid_0's l1: 28.5075\n",
      "[1100]\tvalid_0's l1: 28.2135\n",
      "[1200]\tvalid_0's l1: 27.9458\n",
      "[1300]\tvalid_0's l1: 27.7472\n",
      "[1400]\tvalid_0's l1: 27.566\n",
      "[1500]\tvalid_0's l1: 27.4247\n",
      "[1600]\tvalid_0's l1: 27.3178\n",
      "[1700]\tvalid_0's l1: 27.2233\n",
      "[1800]\tvalid_0's l1: 27.1332\n",
      "[1900]\tvalid_0's l1: 27.0538\n",
      "[2000]\tvalid_0's l1: 26.9869\n",
      "[2100]\tvalid_0's l1: 26.9418\n",
      "[2200]\tvalid_0's l1: 26.89\n",
      "[2300]\tvalid_0's l1: 26.8422\n",
      "[2400]\tvalid_0's l1: 26.7986\n",
      "[2500]\tvalid_0's l1: 26.7632\n",
      "[2600]\tvalid_0's l1: 26.7309\n",
      "[2700]\tvalid_0's l1: 26.7029\n",
      "[2800]\tvalid_0's l1: 26.6826\n",
      "[2900]\tvalid_0's l1: 26.6547\n",
      "[3000]\tvalid_0's l1: 26.6356\n",
      "[3100]\tvalid_0's l1: 26.6226\n",
      "[3200]\tvalid_0's l1: 26.6091\n",
      "[3300]\tvalid_0's l1: 26.5971\n",
      "[3400]\tvalid_0's l1: 26.5832\n",
      "[3500]\tvalid_0's l1: 26.5799\n",
      "[3600]\tvalid_0's l1: 26.5658\n",
      "[3700]\tvalid_0's l1: 26.56\n",
      "[3800]\tvalid_0's l1: 26.5489\n",
      "[3900]\tvalid_0's l1: 26.5449\n",
      "[4000]\tvalid_0's l1: 26.5444\n",
      "[4100]\tvalid_0's l1: 26.5412\n",
      "[4200]\tvalid_0's l1: 26.5376\n",
      "[4300]\tvalid_0's l1: 26.5402\n",
      "[4400]\tvalid_0's l1: 26.5342\n",
      "[4500]\tvalid_0's l1: 26.5357\n",
      "[4600]\tvalid_0's l1: 26.533\n",
      "[4700]\tvalid_0's l1: 26.5293\n",
      "[4800]\tvalid_0's l1: 26.5321\n",
      "[4900]\tvalid_0's l1: 26.5336\n",
      "[5000]\tvalid_0's l1: 26.5362\n",
      "Early stopping, best iteration is:\n",
      "[4741]\tvalid_0's l1: 26.5276\n",
      "-\n",
      "Fold 3\n",
      "Training until validation scores don't improve for 300 rounds\n",
      "[100]\tvalid_0's l1: 44.3757\n",
      "[200]\tvalid_0's l1: 37.8721\n",
      "[300]\tvalid_0's l1: 34.7927\n",
      "[400]\tvalid_0's l1: 32.9333\n",
      "[500]\tvalid_0's l1: 31.631\n",
      "[600]\tvalid_0's l1: 30.7244\n",
      "[700]\tvalid_0's l1: 30.0305\n",
      "[800]\tvalid_0's l1: 29.4004\n",
      "[900]\tvalid_0's l1: 28.9789\n",
      "[1000]\tvalid_0's l1: 28.6414\n",
      "[1100]\tvalid_0's l1: 28.3559\n",
      "[1200]\tvalid_0's l1: 28.1213\n",
      "[1300]\tvalid_0's l1: 27.9307\n",
      "[1400]\tvalid_0's l1: 27.7714\n",
      "[1500]\tvalid_0's l1: 27.6081\n",
      "[1600]\tvalid_0's l1: 27.4811\n",
      "[1700]\tvalid_0's l1: 27.3671\n",
      "[1800]\tvalid_0's l1: 27.2788\n",
      "[1900]\tvalid_0's l1: 27.1873\n",
      "[2000]\tvalid_0's l1: 27.1134\n",
      "[2100]\tvalid_0's l1: 27.0567\n",
      "[2200]\tvalid_0's l1: 27.022\n",
      "[2300]\tvalid_0's l1: 26.9731\n",
      "[2400]\tvalid_0's l1: 26.9236\n",
      "[2500]\tvalid_0's l1: 26.8838\n",
      "[2600]\tvalid_0's l1: 26.845\n",
      "[2700]\tvalid_0's l1: 26.824\n",
      "[2800]\tvalid_0's l1: 26.802\n",
      "[2900]\tvalid_0's l1: 26.7843\n",
      "[3000]\tvalid_0's l1: 26.7607\n",
      "[3100]\tvalid_0's l1: 26.7433\n",
      "[3200]\tvalid_0's l1: 26.7337\n",
      "[3300]\tvalid_0's l1: 26.7211\n",
      "[3400]\tvalid_0's l1: 26.7027\n",
      "[3500]\tvalid_0's l1: 26.6943\n",
      "[3600]\tvalid_0's l1: 26.6926\n",
      "[3700]\tvalid_0's l1: 26.6811\n",
      "[3800]\tvalid_0's l1: 26.677\n",
      "[3900]\tvalid_0's l1: 26.6734\n",
      "[4000]\tvalid_0's l1: 26.6689\n",
      "[4100]\tvalid_0's l1: 26.6617\n",
      "[4200]\tvalid_0's l1: 26.6568\n",
      "[4300]\tvalid_0's l1: 26.6503\n",
      "[4400]\tvalid_0's l1: 26.6485\n",
      "[4500]\tvalid_0's l1: 26.6479\n",
      "[4600]\tvalid_0's l1: 26.6458\n",
      "[4700]\tvalid_0's l1: 26.6496\n",
      "[4800]\tvalid_0's l1: 26.6483\n",
      "[4900]\tvalid_0's l1: 26.6519\n",
      "Early stopping, best iteration is:\n",
      "[4642]\tvalid_0's l1: 26.644\n",
      "-\n",
      "Fold 4\n",
      "Training until validation scores don't improve for 300 rounds\n",
      "[100]\tvalid_0's l1: 44.3783\n",
      "[200]\tvalid_0's l1: 38.04\n",
      "[300]\tvalid_0's l1: 34.9223\n",
      "[400]\tvalid_0's l1: 33.0624\n",
      "[500]\tvalid_0's l1: 31.7484\n",
      "[600]\tvalid_0's l1: 30.8049\n",
      "[700]\tvalid_0's l1: 30.0002\n",
      "[800]\tvalid_0's l1: 29.4896\n",
      "[900]\tvalid_0's l1: 29.0901\n",
      "[1000]\tvalid_0's l1: 28.7605\n",
      "[1100]\tvalid_0's l1: 28.4528\n",
      "[1200]\tvalid_0's l1: 28.1931\n",
      "[1300]\tvalid_0's l1: 27.9853\n",
      "[1400]\tvalid_0's l1: 27.796\n",
      "[1500]\tvalid_0's l1: 27.6438\n",
      "[1600]\tvalid_0's l1: 27.5238\n",
      "[1700]\tvalid_0's l1: 27.4306\n",
      "[1800]\tvalid_0's l1: 27.3457\n",
      "[1900]\tvalid_0's l1: 27.257\n",
      "[2000]\tvalid_0's l1: 27.1861\n",
      "[2100]\tvalid_0's l1: 27.119\n",
      "[2200]\tvalid_0's l1: 27.0781\n",
      "[2300]\tvalid_0's l1: 27.037\n",
      "[2400]\tvalid_0's l1: 26.9912\n",
      "[2500]\tvalid_0's l1: 26.9565\n",
      "[2600]\tvalid_0's l1: 26.9142\n",
      "[2700]\tvalid_0's l1: 26.8896\n",
      "[2800]\tvalid_0's l1: 26.8607\n",
      "[2900]\tvalid_0's l1: 26.8362\n",
      "[3000]\tvalid_0's l1: 26.8093\n",
      "[3100]\tvalid_0's l1: 26.7853\n",
      "[3200]\tvalid_0's l1: 26.7739\n",
      "[3300]\tvalid_0's l1: 26.767\n",
      "[3400]\tvalid_0's l1: 26.7545\n",
      "[3500]\tvalid_0's l1: 26.7443\n",
      "[3600]\tvalid_0's l1: 26.7343\n",
      "[3700]\tvalid_0's l1: 26.722\n",
      "[3800]\tvalid_0's l1: 26.7128\n",
      "[3900]\tvalid_0's l1: 26.7123\n",
      "[4000]\tvalid_0's l1: 26.7084\n",
      "[4100]\tvalid_0's l1: 26.7064\n",
      "[4200]\tvalid_0's l1: 26.6974\n",
      "[4300]\tvalid_0's l1: 26.6934\n",
      "[4400]\tvalid_0's l1: 26.6954\n",
      "[4500]\tvalid_0's l1: 26.6921\n",
      "[4600]\tvalid_0's l1: 26.6941\n",
      "[4700]\tvalid_0's l1: 26.6926\n",
      "[4800]\tvalid_0's l1: 26.6934\n",
      "Early stopping, best iteration is:\n",
      "[4518]\tvalid_0's l1: 26.6911\n",
      "-\n",
      "Fold 5\n",
      "Training until validation scores don't improve for 300 rounds\n",
      "[100]\tvalid_0's l1: 44.4884\n",
      "[200]\tvalid_0's l1: 37.4454\n",
      "[300]\tvalid_0's l1: 34.6791\n",
      "[400]\tvalid_0's l1: 32.865\n",
      "[500]\tvalid_0's l1: 31.5644\n",
      "[600]\tvalid_0's l1: 30.7152\n",
      "[700]\tvalid_0's l1: 29.9678\n",
      "[800]\tvalid_0's l1: 29.383\n",
      "[900]\tvalid_0's l1: 29.0137\n",
      "[1000]\tvalid_0's l1: 28.6656\n",
      "[1100]\tvalid_0's l1: 28.3764\n",
      "[1200]\tvalid_0's l1: 28.1217\n",
      "[1300]\tvalid_0's l1: 27.9421\n",
      "[1400]\tvalid_0's l1: 27.7735\n",
      "[1500]\tvalid_0's l1: 27.6224\n",
      "[1600]\tvalid_0's l1: 27.5016\n",
      "[1700]\tvalid_0's l1: 27.3958\n",
      "[1800]\tvalid_0's l1: 27.3082\n",
      "[1900]\tvalid_0's l1: 27.2311\n",
      "[2000]\tvalid_0's l1: 27.1702\n",
      "[2100]\tvalid_0's l1: 27.0987\n",
      "[2200]\tvalid_0's l1: 27.0555\n",
      "[2300]\tvalid_0's l1: 27.0011\n",
      "[2400]\tvalid_0's l1: 26.9527\n",
      "[2500]\tvalid_0's l1: 26.9096\n",
      "[2600]\tvalid_0's l1: 26.8785\n",
      "[2700]\tvalid_0's l1: 26.8567\n",
      "[2800]\tvalid_0's l1: 26.8387\n",
      "[2900]\tvalid_0's l1: 26.8149\n",
      "[3000]\tvalid_0's l1: 26.7919\n",
      "[3100]\tvalid_0's l1: 26.7728\n",
      "[3200]\tvalid_0's l1: 26.7575\n",
      "[3300]\tvalid_0's l1: 26.7472\n",
      "[3400]\tvalid_0's l1: 26.7382\n",
      "[3500]\tvalid_0's l1: 26.7228\n",
      "[3600]\tvalid_0's l1: 26.7122\n",
      "[3700]\tvalid_0's l1: 26.6984\n",
      "[3800]\tvalid_0's l1: 26.6917\n",
      "[3900]\tvalid_0's l1: 26.6836\n",
      "[4000]\tvalid_0's l1: 26.6818\n",
      "[4100]\tvalid_0's l1: 26.6803\n",
      "[4200]\tvalid_0's l1: 26.6837\n",
      "[4300]\tvalid_0's l1: 26.6837\n",
      "[4400]\tvalid_0's l1: 26.6853\n",
      "Early stopping, best iteration is:\n",
      "[4112]\tvalid_0's l1: 26.6788\n",
      "Wall time: 7min 27s\n"
     ]
    }
   ],
   "source": [
    "%%time\n",
    "folds=KFold(n_splits=5,shuffle=True,random_state=15)\n",
    "feature_importance_df = pd.DataFrame()\n",
    "features=kfoldData2.columns\n",
    "for order, (train_idx,valid_idx) in enumerate(folds.split(kfoldData2, kfoldTarget)):\n",
    "    print('-')\n",
    "    print(\"Fold {}\".format(order + 1))\n",
    "    trn_data = lgb.Dataset(kfoldData2.iloc[train_idx], label=kfoldTarget.iloc[train_idx])\n",
    "    val_data = lgb.Dataset(kfoldData2.iloc[valid_idx], label=kfoldTarget.iloc[valid_idx])\n",
    "\n",
    "    num_round = 10000          ###boosting 10000번 한다는소리임 verbose_eval 은 100번마다 출력함\n",
    "    ###early는 100번동안 효과없으면 그만둠\n",
    "    \n",
    "    clf = lgb.train(param, trn_data, num_round, valid_sets = [val_data], verbose_eval=100, early_stopping_rounds=300)\n",
    "    #훈련해서 모수가 조정된 모델에 valid 데이터 넣어서 예측값 보여주는것\n",
    "    lightgbmOof[valid_idx] = clf.predict(kfoldData2.iloc[valid_idx], num_iteration=clf.best_iteration)\n",
    "    ###5개모델 다더해서 나누면 최종 예측치 되는것\n",
    "    lightgbmPre += clf.predict(kfoldTest2, num_iteration=clf.best_iteration) / folds.n_splits\n",
    "    \n",
    "    fold_importance_df = pd.DataFrame()\n",
    "    fold_importance_df[\"feature\"]=features\n",
    "    fold_importance_df[\"importance\"] = clf.feature_importance()\n",
    "    fold_importance_df[\"order\"] = order + 1\n",
    "    \n",
    "    feature_importance_df = pd.concat([feature_importance_df, fold_importance_df], axis=0)"
   ]
  },
  {
   "cell_type": "code",
   "execution_count": 52,
   "metadata": {},
   "outputs": [
    {
     "data": {
      "image/png": "[encoded data removed]",
      "text/plain": [
       "<Figure size 720x1080 with 1 Axes>"
      ]
     },
     "metadata": {
      "needs_background": "light"
     },
     "output_type": "display_data"
    }
   ],
   "source": [
    "cols = (feature_importance_df[[\"feature\", \"importance\"]].groupby(\"feature\").mean()\n",
    "        .sort_values(by=\"importance\", ascending=False)[:20].index)\n",
    "###각변수들 평규내서 위에서 상위 1000개뽑는것 근디 총변수가 180개인데 의미있나?\n",
    "best_features = feature_importance_df.loc[feature_importance_df.feature.isin(cols)]\n",
    "                ###900개중에서 해당하는 변수가 중복으로 뽑히게됨 결과로 보니 그런듯\n",
    "    ###그런데 그림으로 그릴때는 이게 합쳐지는듯\n",
    "plt.figure(figsize=(10,15))\n",
    "sns.barplot(x=\"importance\",\n",
    "            y=\"feature\",\n",
    "            data=best_features.sort_values(by=\"importance\",\n",
    "                                           ascending=False))\n",
    "plt.title('LightGBM Features (avg over folds)')\n",
    "plt.tight_layout()\n",
    "plt.savefig('big_lgbm_importances.png')"
   ]
  },
  {
   "cell_type": "code",
   "execution_count": 53,
   "metadata": {
    "scrolled": true
   },
   "outputs": [
    {
     "data": {
      "text/plain": [
       "count    1393.000000\n",
       "mean        4.037011\n",
       "std         5.169295\n",
       "min         0.013181\n",
       "25%         1.249797\n",
       "50%         2.809651\n",
       "75%         5.106928\n",
       "max        88.367465\n",
       "dtype: float64"
      ]
     },
     "execution_count": 53,
     "metadata": {},
     "output_type": "execute_result"
    }
   ],
   "source": [
    "(abs(testTarget-lightgbmPre)/testTarget*100).describe()"
   ]
  },
  {
   "cell_type": "code",
   "execution_count": 54,
   "metadata": {},
   "outputs": [
    {
     "data": {
      "text/plain": [
       "0.9799474887413544"
      ]
     },
     "execution_count": 54,
     "metadata": {},
     "output_type": "execute_result"
    }
   ],
   "source": [
    "1-sum((testTarget-lightgbmPre)**2)/SST"
   ]
  },
  {
   "cell_type": "code",
   "execution_count": 55,
   "metadata": {},
   "outputs": [
    {
     "name": "stdout",
     "output_type": "stream",
     "text": [
      "-\n",
      "Fold 1\n",
      "Training until validation scores don't improve for 100 rounds\n",
      "[100]\tvalid_0's l1: 28.9135\n",
      "[200]\tvalid_0's l1: 27.506\n",
      "[300]\tvalid_0's l1: 26.8481\n",
      "[400]\tvalid_0's l1: 26.4643\n",
      "[500]\tvalid_0's l1: 26.1934\n",
      "[600]\tvalid_0's l1: 25.9629\n",
      "[700]\tvalid_0's l1: 25.8315\n",
      "[800]\tvalid_0's l1: 25.7125\n",
      "[900]\tvalid_0's l1: 25.6285\n",
      "[1000]\tvalid_0's l1: 25.5533\n",
      "[1100]\tvalid_0's l1: 25.487\n",
      "[1200]\tvalid_0's l1: 25.4371\n",
      "[1300]\tvalid_0's l1: 25.4051\n",
      "[1400]\tvalid_0's l1: 25.3625\n",
      "[1500]\tvalid_0's l1: 25.3184\n",
      "[1600]\tvalid_0's l1: 25.3018\n",
      "[1700]\tvalid_0's l1: 25.2773\n",
      "[1800]\tvalid_0's l1: 25.2545\n",
      "[1900]\tvalid_0's l1: 25.2472\n",
      "[2000]\tvalid_0's l1: 25.2378\n",
      "[2100]\tvalid_0's l1: 25.2264\n",
      "[2200]\tvalid_0's l1: 25.2218\n",
      "[2300]\tvalid_0's l1: 25.2154\n",
      "[2400]\tvalid_0's l1: 25.2148\n",
      "Early stopping, best iteration is:\n",
      "[2362]\tvalid_0's l1: 25.2132\n",
      "-\n",
      "Fold 2\n",
      "Training until validation scores don't improve for 100 rounds\n",
      "[100]\tvalid_0's l1: 28.8567\n",
      "[200]\tvalid_0's l1: 27.3751\n",
      "[300]\tvalid_0's l1: 26.7898\n",
      "[400]\tvalid_0's l1: 26.4245\n",
      "[500]\tvalid_0's l1: 26.1298\n",
      "[600]\tvalid_0's l1: 25.9302\n",
      "[700]\tvalid_0's l1: 25.7656\n",
      "[800]\tvalid_0's l1: 25.6604\n",
      "[900]\tvalid_0's l1: 25.5778\n",
      "[1000]\tvalid_0's l1: 25.497\n",
      "[1100]\tvalid_0's l1: 25.4305\n",
      "[1200]\tvalid_0's l1: 25.379\n",
      "[1300]\tvalid_0's l1: 25.3424\n",
      "[1400]\tvalid_0's l1: 25.3076\n",
      "[1500]\tvalid_0's l1: 25.2791\n",
      "[1600]\tvalid_0's l1: 25.262\n",
      "[1700]\tvalid_0's l1: 25.246\n",
      "[1800]\tvalid_0's l1: 25.2288\n",
      "[1900]\tvalid_0's l1: 25.217\n",
      "[2000]\tvalid_0's l1: 25.2049\n",
      "[2100]\tvalid_0's l1: 25.1968\n",
      "[2200]\tvalid_0's l1: 25.194\n",
      "[2300]\tvalid_0's l1: 25.187\n",
      "[2400]\tvalid_0's l1: 25.181\n",
      "[2500]\tvalid_0's l1: 25.1811\n",
      "Early stopping, best iteration is:\n",
      "[2420]\tvalid_0's l1: 25.1772\n",
      "-\n",
      "Fold 3\n",
      "[700]\tvalid_0's l1: 25.944\n",
      "[800]\tvalid_0's l1: 25.8503\n",
      "[900]\tvalid_0's l1: 25.7475\n",
      "[1000]\tvalid_0's l1: 25.6613\n",
      "[1100]\tvalid_0's l1: 25.5933\n",
      "[1200]\tvalid_0's l1: 25.5537\n",
      "[1300]\tvalid_0's l1: 25.5207\n",
      "[1400]\tvalid_0's l1: 25.4915\n",
      "[1500]\tvalid_0's l1: 25.4603\n",
      "[1600]\tvalid_0's l1: 25.429\n",
      "[1700]\tvalid_0's l1: 25.408\n",
      "[1800]\tvalid_0's l1: 25.396\n",
      "[1900]\tvalid_0's l1: 25.3789\n",
      "[2000]\tvalid_0's l1: 25.3613\n",
      "[2100]\tvalid_0's l1: 25.3478\n",
      "[2200]\tvalid_0's l1: 25.3378\n",
      "[2300]\tvalid_0's l1: 25.3377\n",
      "Early stopping, best iteration is:\n",
      "[2223]\tvalid_0's l1: 25.3329\n",
      "-\n",
      "Fold 4\n",
      "Training until validation scores don't improve for 100 rounds\n",
      "[100]\tvalid_0's l1: 28.886\n",
      "[200]\tvalid_0's l1: 27.3523\n",
      "[300]\tvalid_0's l1: 26.8106\n",
      "[400]\tvalid_0's l1: 26.4617\n",
      "[500]\tvalid_0's l1: 26.2068\n",
      "[600]\tvalid_0's l1: 26.0176\n",
      "[700]\tvalid_0's l1: 25.8654\n",
      "[800]\tvalid_0's l1: 25.7463\n",
      "[900]\tvalid_0's l1: 25.6465\n",
      "[1000]\tvalid_0's l1: 25.5742\n",
      "[1100]\tvalid_0's l1: 25.5225\n",
      "[1200]\tvalid_0's l1: 25.4656\n",
      "[1300]\tvalid_0's l1: 25.4319\n",
      "[1400]\tvalid_0's l1: 25.4054\n",
      "[1500]\tvalid_0's l1: 25.3751\n",
      "[1600]\tvalid_0's l1: 25.3504\n",
      "[1700]\tvalid_0's l1: 25.3329\n",
      "[1800]\tvalid_0's l1: 25.313\n",
      "[1900]\tvalid_0's l1: 25.2891\n",
      "[2000]\tvalid_0's l1: 25.2803\n",
      "[2100]\tvalid_0's l1: 25.2767\n",
      "[2200]\tvalid_0's l1: 25.2672\n",
      "[2300]\tvalid_0's l1: 25.2619\n",
      "[2400]\tvalid_0's l1: 25.2557\n",
      "[2500]\tvalid_0's l1: 25.2521\n",
      "Early stopping, best iteration is:\n",
      "[2437]\tvalid_0's l1: 25.2499\n",
      "-\n",
      "Fold 5\n",
      "Training until validation scores don't improve for 100 rounds\n",
      "[100]\tvalid_0's l1: 28.9526\n",
      "[200]\tvalid_0's l1: 27.416\n",
      "[300]\tvalid_0's l1: 26.7666\n",
      "[400]\tvalid_0's l1: 26.4499\n",
      "[500]\tvalid_0's l1: 26.1804\n",
      "[600]\tvalid_0's l1: 25.9908\n",
      "[700]\tvalid_0's l1: 25.8419\n",
      "[800]\tvalid_0's l1: 25.7353\n",
      "[900]\tvalid_0's l1: 25.637\n",
      "[1000]\tvalid_0's l1: 25.5448\n",
      "[1100]\tvalid_0's l1: 25.4816\n",
      "[1200]\tvalid_0's l1: 25.4387\n",
      "[1300]\tvalid_0's l1: 25.4006\n",
      "[1400]\tvalid_0's l1: 25.3651\n",
      "[1500]\tvalid_0's l1: 25.3442\n",
      "[1600]\tvalid_0's l1: 25.3257\n",
      "[1700]\tvalid_0's l1: 25.3045\n",
      "[1800]\tvalid_0's l1: 25.2781\n",
      "[1900]\tvalid_0's l1: 25.2552\n",
      "[2000]\tvalid_0's l1: 25.245\n",
      "[2100]\tvalid_0's l1: 25.2343\n",
      "[2200]\tvalid_0's l1: 25.2251\n",
      "[2300]\tvalid_0's l1: 25.2169\n",
      "[2400]\tvalid_0's l1: 25.21\n",
      "[2500]\tvalid_0's l1: 25.2029\n",
      "[2600]\tvalid_0's l1: 25.1982\n",
      "[2700]\tvalid_0's l1: 25.196\n",
      "Early stopping, best iteration is:\n",
      "[2629]\tvalid_0's l1: 25.1953\n",
      "Wall time: 26min 40s\n"
     ]
    }
   ],
   "source": [
    "%%time\n",
    "###lightgbm 데이터 다쓰는것 범주형 다쓰는거임\n",
    "lightgbmOof2=np.zeros(len(kfoldData))\n",
    "lightgbmPre2=np.zeros(len(kfoldTest))\n",
    "folds=KFold(n_splits=5,shuffle=True,random_state=15)\n",
    "feature_importance_df2 = pd.DataFrame()\n",
    "features2=kfoldData.columns\n",
    "for order, (train_idx,valid_idx) in enumerate(folds.split(kfoldData, kfoldTarget)):\n",
    "    print('-')\n",
    "    print(\"Fold {}\".format(order + 1))\n",
    "    trn_data = lgb.Dataset(kfoldData.iloc[train_idx], label=kfoldTarget.iloc[train_idx])\n",
    "    val_data = lgb.Dataset(kfoldData.iloc[valid_idx], label=kfoldTarget.iloc[valid_idx])\n",
    "\n",
    "    num_round = 10000          ###boosting 10000번 한다는소리임 verbose_eval 은 100번마다 출력함\n",
    "    ###early는 100번동안 효과없으면 그만둠\n",
    "    \n",
    "    clf = lgb.train(param, trn_data, num_round, valid_sets = [val_data], verbose_eval=100, early_stopping_rounds=100)\n",
    "    #훈련해서 모수가 조정된 모델에 valid 데이터 넣어서 예측값 보여주는것\n",
    "    lightgbmOof2[valid_idx] = clf.predict(kfoldData.iloc[valid_idx], num_iteration=clf.best_iteration)\n",
    "    ###5개모델 다더해서 나누면 최종 예측치 되는것\n",
    "    lightgbmPre2 += clf.predict(kfoldTest, num_iteration=clf.best_iteration) / folds.n_splits\n",
    "    \n",
    "    fold_importance_df2 = pd.DataFrame()\n",
    "    fold_importance_df2[\"feature\"]=features2\n",
    "    fold_importance_df2[\"importance\"] = clf.feature_importance()\n",
    "    fold_importance_df2[\"order\"] = order + 1\n",
    "    \n",
    "    feature_importance_df2 = pd.concat([feature_importance_df2, fold_importance_df2], axis=0)"
   ]
  },
  {
   "cell_type": "code",
   "execution_count": 56,
   "metadata": {},
   "outputs": [
    {
     "data": {
      "image/png": "[encoded data removed]",
      "text/plain": [
       "<Figure size 1008x1800 with 1 Axes>"
      ]
     },
     "metadata": {
      "needs_background": "light"
     },
     "output_type": "display_data"
    }
   ],
   "source": [
    "cols = (feature_importance_df2[[\"feature\", \"importance\"]].groupby(\"feature\").mean()\n",
    "        .sort_values(by=\"importance\", ascending=False)[:30].index)\n",
    "###각변수들 평규내서 위에서 상위 1000개뽑는것 근디 총변수가 180개인데 의미있나?\n",
    "best_features = feature_importance_df2.loc[feature_importance_df2.feature.isin(cols)]\n",
    "                ###900개중에서 해당하는 변수가 중복으로 뽑히게됨 결과로 보니 그런듯\n",
    "    ###그런데 그림으로 그릴때는 이게 합쳐지는듯\n",
    "plt.figure(figsize=(14,25))\n",
    "sns.barplot(x=\"importance\",\n",
    "            y=\"feature\",\n",
    "            data=best_features.sort_values(by=\"importance\",\n",
    "                                           ascending=False))\n",
    "plt.title('LightGBM Features (avg over folds)')\n",
    "plt.tight_layout()\n",
    "plt.savefig('all_lgbm_importances.png')"
   ]
  },
  {
   "cell_type": "code",
   "execution_count": 57,
   "metadata": {},
   "outputs": [
    {
     "data": {
      "text/plain": [
       "count    1393.000000\n",
       "mean        3.773415\n",
       "std         4.620306\n",
       "min         0.007808\n",
       "25%         1.349899\n",
       "50%         2.650733\n",
       "75%         4.829539\n",
       "max        90.467486\n",
       "dtype: float64"
      ]
     },
     "execution_count": 57,
     "metadata": {},
     "output_type": "execute_result"
    }
   ],
   "source": [
    "#lightgbm단일모델 범주형 다씀\n",
    "(abs(testTarget-lightgbmPre2)/testTarget*100).describe()"
   ]
  },
  {
   "cell_type": "code",
   "execution_count": 58,
   "metadata": {},
   "outputs": [
    {
     "data": {
      "text/plain": [
       "0.9835394503223169"
      ]
     },
     "execution_count": 58,
     "metadata": {},
     "output_type": "execute_result"
    }
   ],
   "source": [
    "1-sum((testTarget-lightgbmPre2)**2)/SST"
   ]
  },
  {
   "cell_type": "code",
   "execution_count": 59,
   "metadata": {},
   "outputs": [
    {
     "data": {
      "text/plain": [
       "(array([469.69553347, 247.50692795, 358.02750286, ..., 539.41302518,\n",
       "        482.68145112, 530.2591245 ]),\n",
       " array([439.84936523, 297.4413147 , 348.57669067, ..., 447.8117981 ,\n",
       "        524.08776855, 561.73095703]),\n",
       " array([405.48569649, 449.39650026, 533.54278473, ..., 508.1588795 ,\n",
       "        542.31376984, 560.80482592]),\n",
       " array([673.22294932, 534.40934814, 620.56345739, ..., 777.52869278,\n",
       "        802.78370286, 766.76955175]),\n",
       " array([498.9379271 , 559.41207097, 433.78184627, ..., 347.20512638,\n",
       "        370.43438173, 377.37573054]),\n",
       " array([503.57687378, 555.86234283, 436.52948761, ..., 342.71218109,\n",
       "        365.58908081, 376.29444885]),\n",
       " array([509.37953366, 573.39860728, 436.75295032, ..., 339.21071322,\n",
       "        369.8860201 , 373.82242009]),\n",
       " array([703.5101574 , 696.06351859, 366.28710609, ..., 367.93326442,\n",
       "        406.9195554 , 419.03186355]))"
      ]
     },
     "execution_count": 59,
     "metadata": {},
     "output_type": "execute_result"
    }
   ],
   "source": [
    "###단일로 stack model\n",
    "lightgbmOof,xgbOof,rfOof,olsOof,lightgbmPre,xgbPre,rfPre,olsPre"
   ]
  },
  {
   "cell_type": "code",
   "execution_count": 60,
   "metadata": {},
   "outputs": [],
   "source": [
    "stackData=pd.DataFrame({\"rf\":rfOof, \"xgb\":xgbOof, \"light\":lightgbmOof,\"ols\":olsOof})"
   ]
  },
  {
   "cell_type": "code",
   "execution_count": 61,
   "metadata": {},
   "outputs": [],
   "source": [
    "stackTestData=pd.DataFrame({\"rf\":rfPre, \"xgb\":xgbPre, \"light\":lightgbmPre,\"ols\":olsPre})"
   ]
  },
  {
   "cell_type": "code",
   "execution_count": 62,
   "metadata": {},
   "outputs": [],
   "source": [
    "stackPre=np.zeros(len(kfoldTest))\n",
    "stackOof=np.zeros(len(stackData))"
   ]
  },
  {
   "cell_type": "code",
   "execution_count": 63,
   "metadata": {},
   "outputs": [
    {
     "name": "stdout",
     "output_type": "stream",
     "text": [
      "xgboost\n",
      "[15:05:28] WARNING: C:/Jenkins/workspace/xgboost-win64_release_0.90/src/objective/regression_obj.cu:152: reg:linear is now deprecated in favor of reg:squarederror.\n",
      "[0]\ttrain-mae:580.914\tvalid-mae:581.834\n",
      "Multiple eval metrics have been passed: 'valid-mae' will be used for early stopping.\n",
      "\n",
      "Will train until valid-mae hasn't improved in 500 rounds.\n",
      "[100]\ttrain-mae:23.8288\tvalid-mae:24.975\n",
      "[200]\ttrain-mae:23.4167\tvalid-mae:25.039\n",
      "[300]\ttrain-mae:23.0464\tvalid-mae:25.0911\n",
      "[400]\ttrain-mae:22.6797\tvalid-mae:25.1448\n",
      "[500]\ttrain-mae:22.3554\tvalid-mae:25.1918\n",
      "Stopping. Best iteration:\n",
      "[79]\ttrain-mae:23.9065\tvalid-mae:24.9691\n",
      "\n",
      "[15:08:22] WARNING: C:/Jenkins/workspace/xgboost-win64_release_0.90/src/objective/regression_obj.cu:152: reg:linear is now deprecated in favor of reg:squarederror.\n",
      "[0]\ttrain-mae:581.089\tvalid-mae:581.179\n",
      "Multiple eval metrics have been passed: 'valid-mae' will be used for early stopping.\n",
      "\n",
      "Will train until valid-mae hasn't improved in 500 rounds.\n",
      "[100]\ttrain-mae:23.7793\tvalid-mae:24.9961\n",
      "[200]\ttrain-mae:23.3855\tvalid-mae:25.059\n",
      "[300]\ttrain-mae:23.0197\tvalid-mae:25.1146\n",
      "[400]\ttrain-mae:22.6802\tvalid-mae:25.1554\n",
      "[500]\ttrain-mae:22.3471\tvalid-mae:25.1989\n",
      "Stopping. Best iteration:\n",
      "[75]\ttrain-mae:23.8871\tvalid-mae:24.99\n",
      "\n",
      "[15:11:05] WARNING: C:/Jenkins/workspace/xgboost-win64_release_0.90/src/objective/regression_obj.cu:152: reg:linear is now deprecated in favor of reg:squarederror.\n",
      "[0]\ttrain-mae:581.47\tvalid-mae:579.546\n",
      "Multiple eval metrics have been passed: 'valid-mae' will be used for early stopping.\n",
      "\n",
      "Will train until valid-mae hasn't improved in 500 rounds.\n",
      "[100]\ttrain-mae:23.79\tvalid-mae:25.2088\n",
      "[200]\ttrain-mae:23.369\tvalid-mae:25.2595\n",
      "[300]\ttrain-mae:22.9942\tvalid-mae:25.3032\n",
      "[400]\ttrain-mae:22.6626\tvalid-mae:25.353\n",
      "[500]\ttrain-mae:22.3344\tvalid-mae:25.39\n",
      "Stopping. Best iteration:\n",
      "[78]\ttrain-mae:23.8785\tvalid-mae:25.1978\n",
      "\n",
      "[15:13:45] WARNING: C:/Jenkins/workspace/xgboost-win64_release_0.90/src/objective/regression_obj.cu:152: reg:linear is now deprecated in favor of reg:squarederror.\n",
      "[0]\ttrain-mae:581.074\tvalid-mae:581.176\n",
      "Multiple eval metrics have been passed: 'valid-mae' will be used for early stopping.\n",
      "\n",
      "Will train until valid-mae hasn't improved in 500 rounds.\n",
      "[100]\ttrain-mae:23.7785\tvalid-mae:25.1038\n",
      "[200]\ttrain-mae:23.3417\tvalid-mae:25.1674\n",
      "[300]\ttrain-mae:22.9616\tvalid-mae:25.2187\n",
      "[400]\ttrain-mae:22.6077\tvalid-mae:25.2686\n",
      "[500]\ttrain-mae:22.2815\tvalid-mae:25.3059\n",
      "Stopping. Best iteration:\n",
      "[71]\ttrain-mae:23.9138\tvalid-mae:25.0801\n",
      "\n",
      "[15:16:27] WARNING: C:/Jenkins/workspace/xgboost-win64_release_0.90/src/objective/regression_obj.cu:152: reg:linear is now deprecated in favor of reg:squarederror.\n",
      "[0]\ttrain-mae:580.939\tvalid-mae:581.743\n",
      "Multiple eval metrics have been passed: 'valid-mae' will be used for early stopping.\n",
      "\n",
      "Will train until valid-mae hasn't improved in 500 rounds.\n",
      "[100]\ttrain-mae:23.7626\tvalid-mae:25.0713\n",
      "[200]\ttrain-mae:23.3633\tvalid-mae:25.1185\n",
      "[300]\ttrain-mae:22.9819\tvalid-mae:25.173\n",
      "[400]\ttrain-mae:22.641\tvalid-mae:25.2124\n",
      "[500]\ttrain-mae:22.2926\tvalid-mae:25.2602\n",
      "Stopping. Best iteration:\n",
      "[70]\ttrain-mae:23.8999\tvalid-mae:25.0592\n",
      "\n",
      "Wall time: 13min 43s\n"
     ]
    }
   ],
   "source": [
    "%%time\n",
    "print(\"xgboost\") \n",
    "sOof = np.zeros(len(kfoldDataWithBig))\n",
    "sPre = np.zeros(len(kfoldTestWithBig)) \n",
    "folds=KFold(n_splits=5,shuffle=True,random_state=15)\n",
    "for n_fold, (trn_idx, val_idx) in enumerate(folds.split(stackData,kfoldTarget)) : \n",
    "    trn_x, trn_y = stackData.iloc[trn_idx], kfoldTarget[trn_idx] \n",
    "    val_x, val_y = stackData.iloc[val_idx], kfoldTarget[val_idx] \n",
    "    params = {'objective': 'reg:linear', \n",
    "              'booster':'gbtree',                   ###Tree base 모델\n",
    "              'eval_metric': 'mae', \n",
    "              'eta': 0.1,           ###학습속도 일반적으로 0.01~0.2\n",
    "              'max_depth': 10,    ###트리 최대깊이 일반적으로 3~10\n",
    "              'subsample': 0.9,    ###각 트리마다 관측 데이터 샘플링 비율 0.5~1\n",
    "              'colsample_bytree': 0.9,   ###각 트리마다 변수 샘플링 비율 0.5~1\n",
    "              'alpha':0.001,                    ###규제항 \n",
    "              'random_state': 42, \n",
    "              'verbosity': 1}                ###동작메시지 출력\n",
    "    tr_data = xgb.DMatrix(trn_x, trn_y) \n",
    "    va_data = xgb.DMatrix(val_x, val_y) \n",
    "    watchlist = [(tr_data, 'train'), (va_data, 'valid')] \n",
    "    model_xgb = xgb.train(params, tr_data, 10000, watchlist, maximize=False, early_stopping_rounds = 500, verbose_eval=100) \n",
    "    \n",
    "    test_data = xgb.DMatrix(stackTestData) \n",
    "    sPre += model_xgb.predict(test_data) / folds.n_splits \n",
    "    sOof[val_idx] = model_xgb.predict(va_data)"
   ]
  },
  {
   "cell_type": "code",
   "execution_count": 64,
   "metadata": {},
   "outputs": [
    {
     "data": {
      "text/plain": [
       "count    1393.000000\n",
       "mean        3.969322\n",
       "std         5.126947\n",
       "min         0.001259\n",
       "25%         1.287478\n",
       "50%         2.713428\n",
       "75%         5.032813\n",
       "max        92.319986\n",
       "dtype: float64"
      ]
     },
     "execution_count": 64,
     "metadata": {},
     "output_type": "execute_result"
    }
   ],
   "source": [
    "#stack단일모델 xgboost 이용 \n",
    "(abs(testTarget-sPre)/testTarget*100).describe()"
   ]
  },
  {
   "cell_type": "code",
   "execution_count": 65,
   "metadata": {},
   "outputs": [
    {
     "data": {
      "text/plain": [
       "0.9800546325772302"
      ]
     },
     "execution_count": 65,
     "metadata": {},
     "output_type": "execute_result"
    }
   ],
   "source": [
    "1-sum((testTarget-sPre)**2)/SST"
   ]
  },
  {
   "cell_type": "code",
   "execution_count": 66,
   "metadata": {},
   "outputs": [],
   "source": [
    "###lightgbm 파라미터\n",
    "param = {'num_leaves': 200,                 #default=31\n",
    "         'min_data_in_leaf': 10,            #default=20\n",
    "         'objective':'regression',\n",
    "         'max_depth': -1,\n",
    "         'learning_rate': 0.01,           ###트리만들때마다 0.01 씩 가중치 곱함\n",
    "         \"boosting\": \"gbdt\",                ###워래 우리가 아는 gbdt 씀\n",
    "         \"feature_fraction\": 0.9,          ###변수 90%만 쓰게됨\n",
    "         \"bagging_freq\": 1,                 ###bagging 의빈도\n",
    "         \"bagging_fraction\": 0.9,        ###데이터를 90%만 쓰게됨 resampling 없이\n",
    "         \"bagging_seed\": 11,              ###bagging 을 위한 seed\n",
    "         \"metric\": 'mae',\n",
    "         \"lambda_l1\": 0.1,                  ###오메가 항에서 람다 말할는거임 가중치 옆에 붙는 weights 숫자가 클수록 보수적\n",
    "         \"verbosity\": -1}                      ###보수적이라는말은 트리생성을 잘안할려고함"
   ]
  },
  {
   "cell_type": "code",
   "execution_count": 67,
   "metadata": {},
   "outputs": [
    {
     "name": "stdout",
     "output_type": "stream",
     "text": [
      "-\n",
      "Fold 1\n",
      "Training until validation scores don't improve for 100 rounds\n",
      "[100]\tvalid_0's l1: 85.6558\n",
      "[200]\tvalid_0's l1: 39.6568\n",
      "[300]\tvalid_0's l1: 27.9485\n",
      "[400]\tvalid_0's l1: 25.9385\n",
      "[500]\tvalid_0's l1: 25.6673\n",
      "[600]\tvalid_0's l1: 25.6418\n",
      "[700]\tvalid_0's l1: 25.6507\n",
      "Early stopping, best iteration is:\n",
      "[609]\tvalid_0's l1: 25.6416\n",
      "-\n",
      "Fold 2\n",
      "Training until validation scores don't improve for 100 rounds\n",
      "[100]\tvalid_0's l1: 84.9091\n",
      "[200]\tvalid_0's l1: 39.3638\n",
      "[300]\tvalid_0's l1: 27.7808\n",
      "[400]\tvalid_0's l1: 25.8225\n",
      "[500]\tvalid_0's l1: 25.5654\n",
      "[600]\tvalid_0's l1: 25.5486\n",
      "Early stopping, best iteration is:\n",
      "[569]\tvalid_0's l1: 25.5465\n",
      "-\n",
      "Fold 3\n",
      "Training until validation scores don't improve for 100 rounds\n",
      "[100]\tvalid_0's l1: 85.065\n",
      "[200]\tvalid_0's l1: 39.4501\n",
      "[300]\tvalid_0's l1: 27.938\n",
      "[400]\tvalid_0's l1: 26.0069\n",
      "[500]\tvalid_0's l1: 25.7699\n",
      "[600]\tvalid_0's l1: 25.7624\n",
      "Early stopping, best iteration is:\n",
      "[556]\tvalid_0's l1: 25.7578\n",
      "-\n",
      "Fold 4\n",
      "Training until validation scores don't improve for 100 rounds\n",
      "[100]\tvalid_0's l1: 85.4767\n",
      "[200]\tvalid_0's l1: 39.5343\n",
      "[300]\tvalid_0's l1: 27.9627\n",
      "[400]\tvalid_0's l1: 26.0359\n",
      "[500]\tvalid_0's l1: 25.7911\n",
      "[600]\tvalid_0's l1: 25.7728\n",
      "Early stopping, best iteration is:\n",
      "[558]\tvalid_0's l1: 25.7725\n",
      "-\n",
      "Fold 5\n",
      "Training until validation scores don't improve for 100 rounds\n",
      "[100]\tvalid_0's l1: 84.9334\n",
      "[200]\tvalid_0's l1: 39.3235\n",
      "[300]\tvalid_0's l1: 27.8376\n",
      "[400]\tvalid_0's l1: 25.9069\n",
      "[500]\tvalid_0's l1: 25.6732\n",
      "[600]\tvalid_0's l1: 25.661\n",
      "Early stopping, best iteration is:\n",
      "[572]\tvalid_0's l1: 25.6586\n",
      "Wall time: 1min 33s\n"
     ]
    }
   ],
   "source": [
    "%%time\n",
    "for order, (train_idx,valid_idx) in enumerate(folds.split(stackData, kfoldTarget)):\n",
    "    print('-')\n",
    "    print(\"Fold {}\".format(order + 1))\n",
    "    trn_data = lgb.Dataset(stackData.iloc[train_idx], label=kfoldTarget.iloc[train_idx])\n",
    "    val_data = lgb.Dataset(stackData.iloc[valid_idx], label=kfoldTarget.iloc[valid_idx])\n",
    "\n",
    "    num_round = 10000          ###boosting 10000번 한다는소리임 verbose_eval 은 100번마다 출력함\n",
    "    ###early는 100번동안 효과없으면 그만둠\n",
    "    \n",
    "    clf = lgb.train(param, trn_data, num_round, valid_sets = [val_data], verbose_eval=100, early_stopping_rounds=100)\n",
    "    #훈련해서 모수가 조정된 모델에 valid 데이터 넣어서 예측값 보여주는것\n",
    "    stackOof[valid_idx] = clf.predict(stackData.iloc[valid_idx], num_iteration=clf.best_iteration)\n",
    "    ###5개모델 다더해서 나누면 최종 예측치 되는것\n",
    "    stackPre += clf.predict(stackTestData, num_iteration=clf.best_iteration) / folds.n_splits"
   ]
  },
  {
   "cell_type": "code",
   "execution_count": 68,
   "metadata": {
    "scrolled": false
   },
   "outputs": [
    {
     "data": {
      "text/plain": [
       "count    1393.000000\n",
       "mean        3.988636\n",
       "std         5.164848\n",
       "min         0.001177\n",
       "25%         1.274562\n",
       "50%         2.740715\n",
       "75%         5.009222\n",
       "max        91.427134\n",
       "dtype: float64"
      ]
     },
     "execution_count": 68,
     "metadata": {},
     "output_type": "execute_result"
    }
   ],
   "source": [
    "#stack단일모델 \n",
    "(abs(testTarget-stackPre)/testTarget*100).describe()"
   ]
  }
 ],
 "metadata": {
  "kernelspec": {
   "display_name": "Python 3",
   "language": "python",
   "name": "python3"
  },
  "language_info": {
   "codemirror_mode": {
    "name": "ipython",
    "version": 3
   },
   "file_extension": ".py",
   "mimetype": "text/x-python",
   "name": "python",
   "nbconvert_exporter": "python",
   "pygments_lexer": "ipython3",
   "version": "3.7.4"
  }
 },
 "nbformat": 4,
 "nbformat_minor": 2
}
