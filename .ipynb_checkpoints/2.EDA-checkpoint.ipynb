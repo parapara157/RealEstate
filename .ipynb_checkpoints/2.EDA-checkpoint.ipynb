{
 "cells": [
  {
   "cell_type": "code",
   "execution_count": 2,
   "metadata": {
    "collapsed": false
   },
   "outputs": [],
   "source": [
    "import pandas as pd\n",
    "import json\n",
    "import requests\n",
    "import copy\n",
    "import matplotlib.pyplot as plt\n",
    "import seaborn as sns"
   ]
  },
  {
   "cell_type": "code",
   "execution_count": 9,
   "metadata": {
    "collapsed": false
   },
   "outputs": [],
   "source": [
    "data2018=pd.read_csv('dataAfterPreprocess/data2018') \n",
    "data2017=pd.read_csv('dataAfterPreprocess/data2017')\n",
    "data2016=pd.read_csv('dataAfterPreprocess/data2016') \n",
    "data2015=pd.read_csv('dataAfterPreprocess/data2015') \n",
    "data2014=pd.read_csv('dataAfterPreprocess/data2014') \n",
    "data2013=pd.read_csv('dataAfterPreprocess/data2013') \n",
    "data2012=pd.read_csv('dataAfterPreprocess/data2012') \n",
    "data2011=pd.read_csv('dataAfterPreprocess/data2011') \n",
    "data2010=pd.read_csv('dataAfterPreprocess/data2010') "
   ]
  },
  {
   "cell_type": "code",
   "execution_count": null,
   "metadata": {
    "collapsed": true
   },
   "outputs": [],
   "source": []
  },
  {
   "cell_type": "code",
   "execution_count": null,
   "metadata": {
    "collapsed": true
   },
   "outputs": [],
   "source": []
  }
 ],
 "metadata": {
  "kernelspec": {
   "display_name": "Python [default]",
   "language": "python",
   "name": "python3"
  },
  "language_info": {
   "codemirror_mode": {
    "name": "ipython",
    "version": 3
   },
   "file_extension": ".py",
   "mimetype": "text/x-python",
   "name": "python",
   "nbconvert_exporter": "python",
   "pygments_lexer": "ipython3",
   "version": "3.5.2"
  }
 },
 "nbformat": 4,
 "nbformat_minor": 1
}
