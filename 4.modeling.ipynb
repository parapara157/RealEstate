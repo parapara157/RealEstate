{
 "cells": [
  {
   "cell_type": "code",
   "execution_count": 66,
   "metadata": {},
   "outputs": [],
   "source": [
    "import pandas as pd\n",
    "import json\n",
    "import requests\n",
    "import copy\n",
    "import matplotlib.pyplot as plt\n",
    "import xgboost as xgb\n",
    "import numpy as np\n",
    "import lightgbm as lgb\n",
    "from sklearn.model_selection import KFold\n",
    "from sklearn import model_selection, preprocessing, metrics\n",
    "import seaborn as sns\n",
    "import estateFunction"
   ]
  },
  {
   "cell_type": "code",
   "execution_count": 67,
   "metadata": {},
   "outputs": [],
   "source": [
    "###경제상황을 반영해주기 위해 각종 지수들을 넣어줌.\n",
    "\n",
    "###공동주택 실거래 가격지수 아파트 \n",
    "apartIndex=pd.read_csv(\"indexData/apartIndex.csv\",encoding=\"cp949\")\n",
    "apartIndex=list((apartIndex.iloc[10].reset_index())[10])[2:]\n",
    "###경기종합 선행 지수\n",
    "economicIndex=pd.read_csv(\"indexData/economicPredictionIndex.csv\",encoding=\"cp949\")\n",
    "economicIndex=list((economicIndex.iloc[10].reset_index()[10])[1:])\n",
    "###생산자 물가 지수\n",
    "produceIndex=pd.read_csv(\"indexData/produceIndex.csv\",encoding=\"cp949\")\n",
    "produceIndex=list((produceIndex.iloc[10].reset_index()[10])[1:])\n",
    "###소비자 물가 지수\n",
    "spendIndex=pd.read_csv(\"indexData/spendIndex.csv\",encoding=\"cp949\")\n",
    "spendIndex=list((spendIndex.iloc[10].reset_index()[10])[1:])"
   ]
  },
  {
   "cell_type": "code",
   "execution_count": 68,
   "metadata": {},
   "outputs": [],
   "source": [
    "###2018/12데이터를 예측하므로 2018/11까지 있어야됨\n",
    "###2018/12데이터에는 2018/11데이터넣음\n",
    "###2010/01데이터에는 2009/12데이터넣음\n",
    "def makeApartIndex(x):\n",
    "    index=(x-201001)//100*12+(x-201001)%100\n",
    "    return apartIndex[index]\n",
    "def makeEconomicIndex(x):\n",
    "    index=(x-201001)//100*12+(x-201001)%100\n",
    "    return economicIndex[index]\n",
    "def makeSpendIndex(x):\n",
    "    index=(x-201001)//100*12+(x-201001)%100\n",
    "    return spendIndex[index]\n",
    "def makeProduceIndex(x):\n",
    "    index=(x-201001)//100*12+(x-201001)%100\n",
    "    return produceIndex[index]"
   ]
  },
  {
   "cell_type": "code",
   "execution_count": 69,
   "metadata": {},
   "outputs": [],
   "source": [
    "kfoldData=pd.read_csv(\"dataAfterPreprocess/finaltrain\")  \n",
    "kfoldTarget=kfoldData['거래금액(만원)']\n",
    "#target값 삭제해주고 나머지 변수들은 훈련에 사용될 수 없음\n",
    "del kfoldData['거래금액(만원)']\n",
    "del kfoldData['시군구']\n",
    "del kfoldData['번지']\n",
    "del kfoldData['본번']\n",
    "del kfoldData['부번']\n",
    "###object에서 category로 바꾸어주어야함\n",
    "kfoldData['단지명']=kfoldData['단지명'].astype('category')\n",
    "kfoldData['도로명']=kfoldData['도로명'].astype('category')\n",
    "kfoldData['big']=kfoldData['big'].astype('category')\n",
    "kfoldData['small']=kfoldData['small'].astype('category')"
   ]
  },
  {
   "cell_type": "code",
   "execution_count": 70,
   "metadata": {},
   "outputs": [],
   "source": [
    "kfoldData['apartIndex']=kfoldData['계약년월'].apply(makeApartIndex).astype('float')\n",
    "kfoldData['economicIndex']=kfoldData['계약년월'].apply(makeEconomicIndex).astype('float')\n",
    "kfoldData['spendIndex']=kfoldData['계약년월'].apply(makeSpendIndex).astype('float')\n",
    "kfoldData['produceIndex']=kfoldData['계약년월'].apply(makeProduceIndex).astype('float')"
   ]
  },
  {
   "cell_type": "code",
   "execution_count": 71,
   "metadata": {},
   "outputs": [],
   "source": [
    "kfoldTest=pd.read_csv(\"dataAfterPreprocess/finaltest\")\n",
    "testTarget=kfoldTest[\"거래금액(만원)\"]/kfoldTest['전용면적(㎡)']\n",
    "#target값 삭제해주고 나머지 변수들은 훈련에 사용될 수 없음\n",
    "del kfoldTest['거래금액(만원)']\n",
    "del kfoldTest['시군구']\n",
    "del kfoldTest['번지']\n",
    "del kfoldTest['본번']\n",
    "del kfoldTest['부번']\n",
    "del kfoldTest['공시가격']\n",
    "del kfoldTest['공시가격(만원)']\n",
    "###object에서 category로 바꾸어주어야함\n",
    "kfoldTest['단지명']=kfoldTest['단지명'].astype('category')\n",
    "kfoldTest['도로명']=kfoldTest['도로명'].astype('category')\n",
    "kfoldTest['big']=kfoldTest['big'].astype('category')\n",
    "kfoldTest['small']=kfoldTest['small'].astype('category')"
   ]
  },
  {
   "cell_type": "code",
   "execution_count": 72,
   "metadata": {},
   "outputs": [],
   "source": [
    "kfoldTest['apartIndex']=kfoldTest['계약년월'].apply(makeApartIndex).astype('float')\n",
    "kfoldTest['economicIndex']=kfoldTest['계약년월'].apply(makeEconomicIndex).astype('float')\n",
    "kfoldTest['spendIndex']=kfoldTest['계약년월'].apply(makeSpendIndex).astype('float')\n",
    "kfoldTest['produceIndex']=kfoldTest['계약년월'].apply(makeProduceIndex).astype('float')"
   ]
  },
  {
   "cell_type": "code",
   "execution_count": 73,
   "metadata": {},
   "outputs": [],
   "source": [
    "kfoldData.columns=['Apart name','USM','Sold date','Storey','Build year','Street name','latitude','longitude','District','dong',\n",
    "                   'Sold month','Apart index','Leading index','Consumer index', 'Producer index']\n",
    "kfoldTest.columns=['Apart name','USM','Sold date','Storey','Build year','Street name','latitude','longitude','District','dong',\n",
    "                   'Sold month','Apart index','Leading index','Consumer index', 'Producer index']\n",
    "###ppsm으로 고쳐줘야 되므로\n",
    "kfoldTarget=kfoldTarget/kfoldData['USM']"
   ]
  },
  {
   "cell_type": "code",
   "execution_count": 74,
   "metadata": {},
   "outputs": [
    {
     "data": {
      "text/plain": [
       "(554312, 554312, 1393, 1393)"
      ]
     },
     "execution_count": 74,
     "metadata": {},
     "output_type": "execute_result"
    }
   ],
   "source": [
    "len(kfoldData),len(kfoldTarget),len(kfoldTest),len(testTarget)"
   ]
  },
  {
   "cell_type": "code",
   "execution_count": 75,
   "metadata": {},
   "outputs": [],
   "source": [
    "SST=sum((testTarget-np.mean(testTarget))**2)"
   ]
  },
  {
   "cell_type": "code",
   "execution_count": 76,
   "metadata": {},
   "outputs": [],
   "source": [
    "###big제외하고 원핫인코딩하기에는 너무 많다.\n",
    "kfoldDataWithBig=copy.deepcopy(kfoldData)\n",
    "kfoldTestWithBig=copy.deepcopy(kfoldTest)\n",
    "del kfoldDataWithBig['Apart name']\n",
    "del kfoldDataWithBig['Street name']\n",
    "del kfoldDataWithBig['dong']\n",
    "del kfoldTestWithBig['Apart name']\n",
    "del kfoldTestWithBig['Street name']\n",
    "del kfoldTestWithBig['dong']"
   ]
  },
  {
   "cell_type": "code",
   "execution_count": 77,
   "metadata": {},
   "outputs": [],
   "source": [
    "cat_features = ['District'] \n",
    "\n",
    "for column in cat_features:\n",
    "    temp = pd.get_dummies(pd.Series(kfoldDataWithBig[column])) \n",
    "    kfoldDataWithBig = pd.concat([kfoldDataWithBig,temp],axis=1) \n",
    "    kfoldDataWithBig = kfoldDataWithBig.drop([column],axis=1) \n",
    "\n",
    "for column in cat_features: \n",
    "    temp = pd.get_dummies(pd.Series(kfoldTestWithBig[column])) \n",
    "    kfoldTestWithBig = pd.concat([kfoldTestWithBig,temp],axis=1) \n",
    "    kfoldTestWithBig = kfoldTestWithBig.drop([column],axis=1)"
   ]
  },
  {
   "cell_type": "code",
   "execution_count": 78,
   "metadata": {},
   "outputs": [
    {
     "data": {
      "text/plain": [
       "(-131192.15449393567,\n",
       " array([-1.16479458e+00,  7.77454988e-02,  5.84953234e+00,  1.18272560e+00,\n",
       "         1.51192143e+03,  4.53427989e+02,  1.01912973e+00,  9.71996600e-01,\n",
       "         2.50740539e+01, -4.72872807e+01,  1.57624570e+01,  6.09856443e+02,\n",
       "        -4.78333598e+01, -3.08584535e+02, -3.66521102e+01,  1.40682899e+01,\n",
       "         5.48852010e+01, -2.48995873e+01, -2.73540415e+01, -3.43446120e+02,\n",
       "        -3.92116847e+02, -1.92632758e+02,  1.25412681e+02,  1.01796672e+02,\n",
       "        -1.07887041e+02,  4.99537808e+02,  5.69988991e+01, -2.20765511e+02,\n",
       "         2.65974723e+02,  1.18365738e+02,  7.92028254e+01,  3.00958412e+02,\n",
       "        -1.87463938e+02, -3.57760689e+01,  5.11911551e+00, -3.06764890e+02]))"
      ]
     },
     "execution_count": 78,
     "metadata": {},
     "output_type": "execute_result"
    }
   ],
   "source": [
    "#OLS\n",
    "from sklearn.linear_model import LinearRegression\n",
    "reg=LinearRegression()\n",
    "reg.fit(kfoldDataWithBig,kfoldTarget)\n",
    "olsPre=reg.predict(kfoldTestWithBig)\n",
    "olsOof=reg.predict(kfoldDataWithBig)\n",
    "reg.intercept_,reg.coef_"
   ]
  },
  {
   "cell_type": "code",
   "execution_count": 79,
   "metadata": {},
   "outputs": [
    {
     "data": {
      "text/plain": [
       "count    1393.000000\n",
       "mean       18.668295\n",
       "std        16.988034\n",
       "min         0.014343\n",
       "25%         6.556310\n",
       "50%        14.655353\n",
       "75%        25.470564\n",
       "max       162.819954\n",
       "dtype: float64"
      ]
     },
     "execution_count": 79,
     "metadata": {},
     "output_type": "execute_result"
    }
   ],
   "source": [
    "(abs(testTarget-olsPre)/testTarget*100).describe()"
   ]
  },
  {
   "cell_type": "code",
   "execution_count": 80,
   "metadata": {},
   "outputs": [
    {
     "data": {
      "text/plain": [
       "0.6481738097326828"
      ]
     },
     "execution_count": 80,
     "metadata": {},
     "output_type": "execute_result"
    }
   ],
   "source": [
    "1-sum((testTarget-olsPre)**2)/SST"
   ]
  },
  {
   "cell_type": "code",
   "execution_count": 18,
   "metadata": {},
   "outputs": [
    {
     "name": "stdout",
     "output_type": "stream",
     "text": [
      "0\n",
      "1\n",
      "2\n",
      "3\n",
      "4\n"
     ]
    }
   ],
   "source": [
    "###randomforest 단일모델\n",
    "from sklearn.ensemble import RandomForestRegressor\n",
    "rfOof = np.zeros(len(kfoldDataWithBig))\n",
    "rfPre = np.zeros(len(kfoldTestWithBig)) \n",
    "folds=KFold(n_splits=5,shuffle=True,random_state=15)\n",
    "\n",
    "for n_fold, (trn_idx, val_idx) in enumerate(folds.split(kfoldDataWithBig,kfoldTarget)) : \n",
    "    print(n_fold)\n",
    "    trn_x, trn_y = kfoldDataWithBig.iloc[trn_idx], kfoldTarget[trn_idx] \n",
    "    val_x, val_y = kfoldDataWithBig.iloc[val_idx], kfoldTarget[val_idx] \n",
    "    ranFo=RandomForestRegressor(n_estimators=150, max_depth=50, n_jobs=-1)\n",
    "    ranFo.fit(trn_x,trn_y)\n",
    "    \n",
    "    rfOof[val_idx]=ranFo.predict(val_x)\n",
    "    rfPre+=ranFo.predict(kfoldTestWithBig)/folds.n_splits"
   ]
  },
  {
   "cell_type": "code",
   "execution_count": 81,
   "metadata": {},
   "outputs": [
    {
     "data": {
      "text/plain": [
       "count    1393.000000\n",
       "mean        4.612367\n",
       "std         5.794306\n",
       "min         0.004695\n",
       "25%         1.350554\n",
       "50%         3.107043\n",
       "75%         5.757863\n",
       "max        75.450826\n",
       "dtype: float64"
      ]
     },
     "execution_count": 81,
     "metadata": {},
     "output_type": "execute_result"
    }
   ],
   "source": [
    "(abs(testTarget-rfPre)/testTarget*100).describe()"
   ]
  },
  {
   "cell_type": "code",
   "execution_count": 82,
   "metadata": {},
   "outputs": [
    {
     "data": {
      "text/plain": [
       "0.9709389311348399"
      ]
     },
     "execution_count": 82,
     "metadata": {},
     "output_type": "execute_result"
    }
   ],
   "source": [
    "1-sum((testTarget-rfPre)**2)/SST"
   ]
  },
  {
   "cell_type": "code",
   "execution_count": null,
   "metadata": {},
   "outputs": [],
   "source": [
    "###xgboost 단일모델 \n",
    "xgboost.train(params, dtrain, num_boost_round=10, \n",
    "              evals=(), obj=None, feval=None, maximize=False, early_stopping_rounds=None, \n",
    "              evals_result=None, verbose_eval=True, xgb_model=None, callbacks=None, learning_rates=None)\n",
    "evals (list of pairs (DMatrix, string)) – List of validation sets for which metrics will evaluated during training. \n",
    "Validation metrics will help us track the performance of the model."
   ]
  },
  {
   "cell_type": "code",
   "execution_count": 206,
   "metadata": {
    "scrolled": true
   },
   "outputs": [
    {
     "name": "stdout",
     "output_type": "stream",
     "text": [
      "xgboost\n",
      "[20:57:05] WARNING: C:/Jenkins/workspace/xgboost-win64_release_0.90/src/objective/regression_obj.cu:152: reg:linear is now deprecated in favor of reg:squarederror.\n",
      "[0]\ttrain-mae:581.011\tvalid-mae:581.944\n",
      "Multiple eval metrics have been passed: 'valid-mae' will be used for early stopping.\n",
      "\n",
      "Will train until valid-mae hasn't improved in 500 rounds.\n",
      "[99]\ttrain-mae:39.0626\tvalid-mae:41.5826\n",
      "[20:57:54] WARNING: C:/Jenkins/workspace/xgboost-win64_release_0.90/src/objective/regression_obj.cu:152: reg:linear is now deprecated in favor of reg:squarederror.\n",
      "[0]\ttrain-mae:581.188\tvalid-mae:581.293\n",
      "Multiple eval metrics have been passed: 'valid-mae' will be used for early stopping.\n",
      "\n",
      "Will train until valid-mae hasn't improved in 500 rounds.\n",
      "[99]\ttrain-mae:38.8251\tvalid-mae:41.4169\n",
      "[20:58:47] WARNING: C:/Jenkins/workspace/xgboost-win64_release_0.90/src/objective/regression_obj.cu:152: reg:linear is now deprecated in favor of reg:squarederror.\n",
      "[0]\ttrain-mae:581.564\tvalid-mae:579.633\n",
      "Multiple eval metrics have been passed: 'valid-mae' will be used for early stopping.\n",
      "\n",
      "Will train until valid-mae hasn't improved in 500 rounds.\n",
      "[99]\ttrain-mae:40.1784\tvalid-mae:42.8467\n"
     ]
    }
   ],
   "source": [
    "xgdic1={}\n",
    "for i in list(kfoldDataWithBig.columns.values):\n",
    "    xgdic1[i]=0\n",
    "xgdic1=pd.Series(xgdic1)    \n",
    "###범주형 변수 big만 남겼음\n",
    "###속도가 빨라짐\n",
    "print(\"xgboost\") \n",
    "xgbOof = np.zeros(len(kfoldDataWithBig))\n",
    "xgbPre = np.zeros(len(kfoldTestWithBig)) \n",
    "folds=KFold(n_splits=5,shuffle=True,random_state=15)\n",
    "for n_fold, (trn_idx, val_idx) in enumerate(folds.split(kfoldDataWithBig,kfoldTarget)) : \n",
    "    trn_x, trn_y = kfoldDataWithBig.iloc[trn_idx], kfoldTarget[trn_idx] \n",
    "    val_x, val_y = kfoldDataWithBig.iloc[val_idx], kfoldTarget[val_idx] \n",
    "    params = {'objective': 'reg:linear', \n",
    "              'booster':'gbtree',                   ###Tree base 모델\n",
    "              'eval_metric': 'mae', \n",
    "              'eta': 0.1,           ###학습속도 일반적으로 0.01~0.2\n",
    "              'max_depth': 10,    ###트리 최대깊이 일반적으로 3~10\n",
    "              'subsample': 0.9,    ###각 트리마다 관측 데이터 샘플링 비율 0.5~1\n",
    "              'colsample_bytree': 0.9,   ###각 트리마다 변수 샘플링 비율 0.5~1\n",
    "              'alpha':0.001,                    ###규제항 \n",
    "              'random_state': 42, \n",
    "              'verbosity': 1}                ###동작메시지 출력\n",
    "    tr_data = xgb.DMatrix(trn_x, trn_y) \n",
    "    va_data = xgb.DMatrix(val_x, val_y) \n",
    "    watchlist = [(tr_data, 'train'), (va_data, 'valid')] \n",
    "    model_xgb = xgb.train(params, tr_data, 100, watchlist, maximize=False, early_stopping_rounds = 500, verbose_eval=100) \n",
    "    \n",
    "    test_data = xgb.DMatrix(kfoldTestWithBig) \n",
    "    xgbPre += model_xgb.predict(test_data) / folds.n_splits \n",
    "    xgbOof[val_idx] = model_xgb.predict(va_data)\n",
    "    \n",
    "    se=pd.Series(model_xgb.get_score(importance_type='gain'))\n",
    "    xgdic1=xgdic1+se\n",
    "    if n_fold==2:\n",
    "        break"
   ]
  },
  {
   "cell_type": "code",
   "execution_count": null,
   "metadata": {},
   "outputs": [],
   "source": []
  },
  {
   "cell_type": "code",
   "execution_count": null,
   "metadata": {},
   "outputs": [],
   "source": []
  },
  {
   "cell_type": "code",
   "execution_count": null,
   "metadata": {},
   "outputs": [],
   "source": []
  },
  {
   "cell_type": "code",
   "execution_count": null,
   "metadata": {},
   "outputs": [],
   "source": []
  },
  {
   "cell_type": "code",
   "execution_count": null,
   "metadata": {},
   "outputs": [],
   "source": []
  },
  {
   "cell_type": "code",
   "execution_count": 123,
   "metadata": {},
   "outputs": [
    {
     "data": {
      "text/plain": [
       "count    1393.000000\n",
       "mean        3.934036\n",
       "std         5.329673\n",
       "min         0.003103\n",
       "25%         1.200769\n",
       "50%         2.739085\n",
       "75%         5.002233\n",
       "max       108.609821\n",
       "dtype: float64"
      ]
     },
     "execution_count": 123,
     "metadata": {},
     "output_type": "execute_result"
    }
   ],
   "source": [
    "(abs(testTarget-xgbPre)/testTarget*100).describe()"
   ]
  },
  {
   "cell_type": "code",
   "execution_count": 124,
   "metadata": {},
   "outputs": [
    {
     "data": {
      "text/plain": [
       "0.9810946705513534"
      ]
     },
     "execution_count": 124,
     "metadata": {},
     "output_type": "execute_result"
    }
   ],
   "source": [
    "1-sum((testTarget-xgbPre)**2)/SST"
   ]
  },
  {
   "cell_type": "code",
   "execution_count": 106,
   "metadata": {},
   "outputs": [],
   "source": [
    "###lightgbm 파라미터\n",
    "param = {'num_leaves': 200,                 #default=31\n",
    "         'min_data_in_leaf': 10,            #default=20\n",
    "         'objective':'regression',\n",
    "         'max_depth': -1,\n",
    "         'learning_rate': 0.1,           ###트리만들때마다 0.01 씩 가중치 곱함\n",
    "         \"boosting\": \"gbdt\",                ###워래 우리가 아는 gbdt 씀\n",
    "         \"feature_fraction\": 0.9,          ###변수 90%만 쓰게됨\n",
    "         \"bagging_freq\": 1,                 ###bagging 의빈도\n",
    "         \"bagging_fraction\": 0.9,        ###데이터를 90%만 쓰게됨 resampling 없이\n",
    "         \"bagging_seed\": 11,              ###bagging 을 위한 seed\n",
    "         \"metric\": 'mae',\n",
    "         \"lambda_l1\": 0.1,                  ###오메가 항에서 람다 말할는거임 가중치 옆에 붙는 weights 숫자가 클수록 보수적\n",
    "         \"verbosity\": -1}                      ###보수적이라는말은 트리생성을 잘안할려고함"
   ]
  },
  {
   "cell_type": "code",
   "execution_count": 107,
   "metadata": {},
   "outputs": [],
   "source": [
    "#lightgbm단일모델인데 범주형 변수 제외하고 이거는 가변수 쓰지말고 그냥 big 그대로 쓰자\n",
    "lightgbmOof=np.zeros(len(kfoldDataWithBig))\n",
    "lightgbmPre=np.zeros(len(kfoldTestWithBig))\n",
    "kfoldData2=copy.deepcopy(kfoldData)\n",
    "kfoldTest2=copy.deepcopy(kfoldTest)\n",
    "del kfoldData2['Apart name']\n",
    "del kfoldData2['Street name']\n",
    "del kfoldData2['dong']\n",
    "del kfoldTest2['Apart name']\n",
    "del kfoldTest2['Street name']\n",
    "del kfoldTest2['dong']"
   ]
  },
  {
   "cell_type": "code",
   "execution_count": 108,
   "metadata": {
    "scrolled": true
   },
   "outputs": [
    {
     "name": "stdout",
     "output_type": "stream",
     "text": [
      "-\n",
      "Fold 1\n",
      "Training until validation scores don't improve for 300 rounds\n",
      "[100]\tvalid_0's l1: 44.5463\n",
      "[200]\tvalid_0's l1: 37.7842\n",
      "[300]\tvalid_0's l1: 34.9965\n",
      "[400]\tvalid_0's l1: 32.9447\n",
      "[500]\tvalid_0's l1: 31.6433\n",
      "[600]\tvalid_0's l1: 30.7455\n",
      "[700]\tvalid_0's l1: 30.0013\n",
      "[800]\tvalid_0's l1: 29.4665\n",
      "[900]\tvalid_0's l1: 28.9819\n",
      "[1000]\tvalid_0's l1: 28.6513\n",
      "[1100]\tvalid_0's l1: 28.3562\n",
      "[1200]\tvalid_0's l1: 28.0985\n",
      "[1300]\tvalid_0's l1: 27.8672\n",
      "[1400]\tvalid_0's l1: 27.7118\n",
      "[1500]\tvalid_0's l1: 27.5671\n",
      "[1600]\tvalid_0's l1: 27.4591\n",
      "[1700]\tvalid_0's l1: 27.3463\n",
      "[1800]\tvalid_0's l1: 27.2584\n",
      "[1900]\tvalid_0's l1: 27.1926\n",
      "[2000]\tvalid_0's l1: 27.1301\n",
      "[2100]\tvalid_0's l1: 27.0587\n",
      "[2200]\tvalid_0's l1: 27.0021\n",
      "[2300]\tvalid_0's l1: 26.9552\n",
      "[2400]\tvalid_0's l1: 26.9107\n",
      "[2500]\tvalid_0's l1: 26.8766\n",
      "[2600]\tvalid_0's l1: 26.8342\n",
      "[2700]\tvalid_0's l1: 26.795\n",
      "[2800]\tvalid_0's l1: 26.7548\n",
      "[2900]\tvalid_0's l1: 26.7286\n",
      "[3000]\tvalid_0's l1: 26.7116\n",
      "[3100]\tvalid_0's l1: 26.69\n",
      "[3200]\tvalid_0's l1: 26.669\n",
      "[3300]\tvalid_0's l1: 26.6593\n",
      "[3400]\tvalid_0's l1: 26.6415\n",
      "[3500]\tvalid_0's l1: 26.627\n",
      "[3600]\tvalid_0's l1: 26.616\n",
      "[3700]\tvalid_0's l1: 26.6113\n",
      "[3800]\tvalid_0's l1: 26.605\n",
      "[3900]\tvalid_0's l1: 26.6035\n",
      "[4000]\tvalid_0's l1: 26.5917\n",
      "[4100]\tvalid_0's l1: 26.5896\n",
      "[4200]\tvalid_0's l1: 26.5838\n",
      "[4300]\tvalid_0's l1: 26.5766\n",
      "[4400]\tvalid_0's l1: 26.5819\n",
      "[4500]\tvalid_0's l1: 26.5808\n",
      "[4600]\tvalid_0's l1: 26.5819\n",
      "Early stopping, best iteration is:\n",
      "[4300]\tvalid_0's l1: 26.5766\n",
      "-\n",
      "Fold 2\n",
      "Training until validation scores don't improve for 300 rounds\n",
      "[100]\tvalid_0's l1: 44.121\n",
      "[200]\tvalid_0's l1: 37.7511\n",
      "[300]\tvalid_0's l1: 34.6516\n",
      "[400]\tvalid_0's l1: 32.8181\n",
      "[500]\tvalid_0's l1: 31.5147\n",
      "[600]\tvalid_0's l1: 30.6539\n",
      "[700]\tvalid_0's l1: 29.8898\n",
      "[800]\tvalid_0's l1: 29.3252\n",
      "[900]\tvalid_0's l1: 28.8684\n",
      "[1000]\tvalid_0's l1: 28.5075\n",
      "[1100]\tvalid_0's l1: 28.2135\n",
      "[1200]\tvalid_0's l1: 27.9458\n",
      "[1300]\tvalid_0's l1: 27.7472\n",
      "[1400]\tvalid_0's l1: 27.566\n",
      "[1500]\tvalid_0's l1: 27.4247\n",
      "[1600]\tvalid_0's l1: 27.3178\n",
      "[1700]\tvalid_0's l1: 27.2233\n",
      "[1800]\tvalid_0's l1: 27.1332\n",
      "[1900]\tvalid_0's l1: 27.0538\n",
      "[2000]\tvalid_0's l1: 26.9869\n",
      "[2100]\tvalid_0's l1: 26.9418\n",
      "[2200]\tvalid_0's l1: 26.89\n",
      "[2300]\tvalid_0's l1: 26.8422\n",
      "[2400]\tvalid_0's l1: 26.7986\n",
      "[2500]\tvalid_0's l1: 26.7632\n",
      "[2600]\tvalid_0's l1: 26.7309\n",
      "[2700]\tvalid_0's l1: 26.7029\n",
      "[2800]\tvalid_0's l1: 26.6826\n",
      "[2900]\tvalid_0's l1: 26.6547\n",
      "[3000]\tvalid_0's l1: 26.6356\n",
      "[3100]\tvalid_0's l1: 26.6226\n",
      "[3200]\tvalid_0's l1: 26.6091\n",
      "[3300]\tvalid_0's l1: 26.5971\n",
      "[3400]\tvalid_0's l1: 26.5832\n",
      "[3500]\tvalid_0's l1: 26.5799\n",
      "[3600]\tvalid_0's l1: 26.5658\n",
      "[3700]\tvalid_0's l1: 26.56\n",
      "[3800]\tvalid_0's l1: 26.5489\n",
      "[3900]\tvalid_0's l1: 26.5449\n",
      "[4000]\tvalid_0's l1: 26.5444\n",
      "[4100]\tvalid_0's l1: 26.5412\n",
      "[4200]\tvalid_0's l1: 26.5376\n",
      "[4300]\tvalid_0's l1: 26.5402\n",
      "[4400]\tvalid_0's l1: 26.5342\n",
      "[4500]\tvalid_0's l1: 26.5357\n",
      "[4600]\tvalid_0's l1: 26.533\n",
      "[4700]\tvalid_0's l1: 26.5293\n",
      "[4800]\tvalid_0's l1: 26.5321\n",
      "[4900]\tvalid_0's l1: 26.5336\n",
      "[5000]\tvalid_0's l1: 26.5362\n",
      "Early stopping, best iteration is:\n",
      "[4741]\tvalid_0's l1: 26.5276\n",
      "-\n",
      "Fold 3\n",
      "Training until validation scores don't improve for 300 rounds\n",
      "[100]\tvalid_0's l1: 44.3757\n",
      "[200]\tvalid_0's l1: 37.8721\n",
      "[300]\tvalid_0's l1: 34.7927\n",
      "[400]\tvalid_0's l1: 32.9333\n",
      "[500]\tvalid_0's l1: 31.631\n",
      "[600]\tvalid_0's l1: 30.7244\n",
      "[700]\tvalid_0's l1: 30.0305\n",
      "[800]\tvalid_0's l1: 29.4004\n",
      "[4800]\tvalid_0's l1: 26.6483\n",
      "[4900]\tvalid_0's l1: 26.6519\n",
      "Early stopping, best iteration is:\n",
      "[4642]\tvalid_0's l1: 26.644\n",
      "-\n",
      "Fold 4\n",
      "Training until validation scores don't improve for 300 rounds\n",
      "[100]\tvalid_0's l1: 44.3783\n",
      "[200]\tvalid_0's l1: 38.04\n",
      "[300]\tvalid_0's l1: 34.9223\n",
      "[400]\tvalid_0's l1: 33.0624\n",
      "[500]\tvalid_0's l1: 31.7484\n",
      "[600]\tvalid_0's l1: 30.8049\n",
      "[700]\tvalid_0's l1: 30.0002\n",
      "[800]\tvalid_0's l1: 29.4896\n",
      "[900]\tvalid_0's l1: 29.0901\n",
      "[1000]\tvalid_0's l1: 28.7605\n",
      "[1100]\tvalid_0's l1: 28.4528\n",
      "[1200]\tvalid_0's l1: 28.1931\n",
      "[1300]\tvalid_0's l1: 27.9853\n",
      "[1400]\tvalid_0's l1: 27.796\n",
      "[1500]\tvalid_0's l1: 27.6438\n",
      "[1600]\tvalid_0's l1: 27.5238\n",
      "[1700]\tvalid_0's l1: 27.4306\n",
      "[1800]\tvalid_0's l1: 27.3457\n",
      "[1900]\tvalid_0's l1: 27.257\n",
      "[2000]\tvalid_0's l1: 27.1861\n",
      "[2100]\tvalid_0's l1: 27.119\n",
      "[2200]\tvalid_0's l1: 27.0781\n",
      "[2300]\tvalid_0's l1: 27.037\n",
      "[2400]\tvalid_0's l1: 26.9912\n",
      "[2500]\tvalid_0's l1: 26.9565\n",
      "[2600]\tvalid_0's l1: 26.9142\n",
      "[2700]\tvalid_0's l1: 26.8896\n",
      "[2800]\tvalid_0's l1: 26.8607\n",
      "[2900]\tvalid_0's l1: 26.8362\n",
      "[3000]\tvalid_0's l1: 26.8093\n",
      "[3100]\tvalid_0's l1: 26.7853\n",
      "[3200]\tvalid_0's l1: 26.7739\n",
      "[3300]\tvalid_0's l1: 26.767\n",
      "[3400]\tvalid_0's l1: 26.7545\n",
      "[3500]\tvalid_0's l1: 26.7443\n",
      "[3600]\tvalid_0's l1: 26.7343\n",
      "[3700]\tvalid_0's l1: 26.722\n",
      "[3800]\tvalid_0's l1: 26.7128\n",
      "[3900]\tvalid_0's l1: 26.7123\n",
      "[4000]\tvalid_0's l1: 26.7084\n",
      "[4100]\tvalid_0's l1: 26.7064\n",
      "[4200]\tvalid_0's l1: 26.6974\n",
      "[4300]\tvalid_0's l1: 26.6934\n",
      "[4400]\tvalid_0's l1: 26.6954\n",
      "[4500]\tvalid_0's l1: 26.6921\n",
      "[4600]\tvalid_0's l1: 26.6941\n",
      "[4700]\tvalid_0's l1: 26.6926\n",
      "[4800]\tvalid_0's l1: 26.6934\n",
      "Early stopping, best iteration is:\n",
      "[4518]\tvalid_0's l1: 26.6911\n",
      "-\n",
      "Fold 5\n",
      "Training until validation scores don't improve for 300 rounds\n",
      "[100]\tvalid_0's l1: 44.4884\n",
      "[200]\tvalid_0's l1: 37.4454\n",
      "[300]\tvalid_0's l1: 34.6791\n",
      "[400]\tvalid_0's l1: 32.865\n",
      "[500]\tvalid_0's l1: 31.5644\n",
      "[600]\tvalid_0's l1: 30.7152\n",
      "[700]\tvalid_0's l1: 29.9678\n",
      "[800]\tvalid_0's l1: 29.383\n",
      "[900]\tvalid_0's l1: 29.0137\n",
      "[1000]\tvalid_0's l1: 28.6656\n",
      "[1100]\tvalid_0's l1: 28.3764\n",
      "[1200]\tvalid_0's l1: 28.1217\n",
      "[1300]\tvalid_0's l1: 27.9421\n",
      "[1400]\tvalid_0's l1: 27.7735\n",
      "[1500]\tvalid_0's l1: 27.6224\n",
      "[1600]\tvalid_0's l1: 27.5016\n",
      "[1700]\tvalid_0's l1: 27.3958\n",
      "[1800]\tvalid_0's l1: 27.3082\n",
      "[1900]\tvalid_0's l1: 27.2311\n",
      "[2000]\tvalid_0's l1: 27.1702\n",
      "[2100]\tvalid_0's l1: 27.0987\n",
      "[2200]\tvalid_0's l1: 27.0555\n",
      "[2300]\tvalid_0's l1: 27.0011\n",
      "[2400]\tvalid_0's l1: 26.9527\n",
      "[2500]\tvalid_0's l1: 26.9096\n",
      "[2600]\tvalid_0's l1: 26.8785\n",
      "[2700]\tvalid_0's l1: 26.8567\n",
      "[2800]\tvalid_0's l1: 26.8387\n",
      "[2900]\tvalid_0's l1: 26.8149\n",
      "[3000]\tvalid_0's l1: 26.7919\n",
      "[3100]\tvalid_0's l1: 26.7728\n",
      "[3200]\tvalid_0's l1: 26.7575\n",
      "[3300]\tvalid_0's l1: 26.7472\n",
      "[3400]\tvalid_0's l1: 26.7382\n",
      "[3500]\tvalid_0's l1: 26.7228\n",
      "[3600]\tvalid_0's l1: 26.7122\n",
      "[3700]\tvalid_0's l1: 26.6984\n",
      "[3800]\tvalid_0's l1: 26.6917\n",
      "[3900]\tvalid_0's l1: 26.6836\n",
      "[4000]\tvalid_0's l1: 26.6818\n",
      "[4100]\tvalid_0's l1: 26.6803\n",
      "[4200]\tvalid_0's l1: 26.6837\n",
      "[4300]\tvalid_0's l1: 26.6837\n",
      "[4400]\tvalid_0's l1: 26.6853\n",
      "Early stopping, best iteration is:\n",
      "[4112]\tvalid_0's l1: 26.6788\n"
     ]
    }
   ],
   "source": [
    "folds=KFold(n_splits=5,shuffle=True,random_state=15)\n",
    "feature_importance_df = pd.DataFrame()\n",
    "features=kfoldData2.columns\n",
    "for order, (train_idx,valid_idx) in enumerate(folds.split(kfoldData2, kfoldTarget)):\n",
    "    print('-')\n",
    "    print(\"Fold {}\".format(order + 1))\n",
    "    trn_data = lgb.Dataset(kfoldData2.iloc[train_idx], label=kfoldTarget.iloc[train_idx])\n",
    "    val_data = lgb.Dataset(kfoldData2.iloc[valid_idx], label=kfoldTarget.iloc[valid_idx])\n",
    "\n",
    "    num_round = 10000          ###boosting 10000번 한다는소리임 verbose_eval 은 100번마다 출력함\n",
    "    ###early는 100번동안 효과없으면 그만둠\n",
    "    \n",
    "    clf = lgb.train(param, trn_data, num_round, valid_sets = [val_data], verbose_eval=100, early_stopping_rounds=300)\n",
    "    #훈련해서 모수가 조정된 모델에 valid 데이터 넣어서 예측값 보여주는것\n",
    "    lightgbmOof[valid_idx] = clf.predict(kfoldData2.iloc[valid_idx], num_iteration=clf.best_iteration)\n",
    "    ###5개모델 다더해서 나누면 최종 예측치 되는것\n",
    "    lightgbmPre += clf.predict(kfoldTest2, num_iteration=clf.best_iteration) / folds.n_splits\n",
    "    \n",
    "    fold_importance_df = pd.DataFrame()\n",
    "    fold_importance_df[\"feature\"]=features\n",
    "    fold_importance_df[\"importance\"] = clf.feature_importance()\n",
    "    fold_importance_df[\"order\"] = order + 1\n",
    "    \n",
    "    feature_importance_df = pd.concat([feature_importance_df, fold_importance_df], axis=0)"
   ]
  },
  {
   "cell_type": "code",
   "execution_count": 109,
   "metadata": {},
   "outputs": [
    {
     "data": {
      "image/png": "[encoded data removed]",
      "text/plain": [
       "<Figure size 720x1080 with 1 Axes>"
      ]
     },
     "metadata": {
      "needs_background": "light"
     },
     "output_type": "display_data"
    }
   ],
   "source": [
    "cols = (feature_importance_df[[\"feature\", \"importance\"]].groupby(\"feature\").mean()\n",
    "        .sort_values(by=\"importance\", ascending=False)[:20].index)\n",
    "###각변수들 평규내서 위에서 상위 1000개뽑는것 근디 총변수가 180개인데 의미있나?\n",
    "best_features = feature_importance_df.loc[feature_importance_df.feature.isin(cols)]\n",
    "                ###900개중에서 해당하는 변수가 중복으로 뽑히게됨 결과로 보니 그런듯\n",
    "    ###그런데 그림으로 그릴때는 이게 합쳐지는듯\n",
    "plt.figure(figsize=(10,15))\n",
    "sns.barplot(x=\"importance\",\n",
    "            y=\"feature\",\n",
    "            data=best_features.sort_values(by=\"importance\",\n",
    "                                           ascending=False))\n",
    "plt.title('LightGBM Features (avg over folds)')\n",
    "plt.tight_layout()\n",
    "plt.savefig('big_lgbm_importances.png')"
   ]
  },
  {
   "cell_type": "code",
   "execution_count": 110,
   "metadata": {
    "scrolled": true
   },
   "outputs": [
    {
     "data": {
      "text/plain": [
       "count    1393.000000\n",
       "mean        4.037011\n",
       "std         5.169295\n",
       "min         0.013181\n",
       "25%         1.249797\n",
       "50%         2.809651\n",
       "75%         5.106928\n",
       "max        88.367465\n",
       "dtype: float64"
      ]
     },
     "execution_count": 110,
     "metadata": {},
     "output_type": "execute_result"
    }
   ],
   "source": [
    "(abs(testTarget-lightgbmPre)/testTarget*100).describe()"
   ]
  },
  {
   "cell_type": "code",
   "execution_count": 113,
   "metadata": {},
   "outputs": [
    {
     "data": {
      "text/plain": [
       "0.9799474887413544"
      ]
     },
     "execution_count": 113,
     "metadata": {},
     "output_type": "execute_result"
    }
   ],
   "source": [
    "1-sum((testTarget-lightgbmPre)**2)/SST"
   ]
  },
  {
   "cell_type": "code",
   "execution_count": 114,
   "metadata": {},
   "outputs": [
    {
     "name": "stdout",
     "output_type": "stream",
     "text": [
      "-\n",
      "Fold 1\n",
      "Training until validation scores don't improve for 100 rounds\n",
      "[100]\tvalid_0's l1: 28.9135\n",
      "[200]\tvalid_0's l1: 27.506\n",
      "[300]\tvalid_0's l1: 26.8481\n",
      "[400]\tvalid_0's l1: 26.4643\n",
      "[500]\tvalid_0's l1: 26.1934\n",
      "[600]\tvalid_0's l1: 25.9629\n",
      "[700]\tvalid_0's l1: 25.8315\n",
      "[800]\tvalid_0's l1: 25.7125\n",
      "[900]\tvalid_0's l1: 25.6285\n",
      "[1000]\tvalid_0's l1: 25.5533\n",
      "[1100]\tvalid_0's l1: 25.487\n",
      "[1200]\tvalid_0's l1: 25.4371\n",
      "[1300]\tvalid_0's l1: 25.4051\n",
      "[1400]\tvalid_0's l1: 25.3625\n",
      "[1500]\tvalid_0's l1: 25.3184\n",
      "[1600]\tvalid_0's l1: 25.3018\n",
      "[1700]\tvalid_0's l1: 25.2773\n",
      "[1800]\tvalid_0's l1: 25.2545\n",
      "[1900]\tvalid_0's l1: 25.2472\n",
      "[2000]\tvalid_0's l1: 25.2378\n",
      "[2100]\tvalid_0's l1: 25.2264\n",
      "[2200]\tvalid_0's l1: 25.2218\n",
      "[2300]\tvalid_0's l1: 25.2154\n",
      "[2400]\tvalid_0's l1: 25.2148\n",
      "Early stopping, best iteration is:\n",
      "[2362]\tvalid_0's l1: 25.2132\n",
      "-\n",
      "Fold 2\n",
      "Training until validation scores don't improve for 100 rounds\n",
      "[100]\tvalid_0's l1: 28.8567\n",
      "[200]\tvalid_0's l1: 27.3751\n",
      "[300]\tvalid_0's l1: 26.7898\n",
      "[400]\tvalid_0's l1: 26.4245\n",
      "[500]\tvalid_0's l1: 26.1298\n",
      "[600]\tvalid_0's l1: 25.9302\n",
      "[700]\tvalid_0's l1: 25.7656\n",
      "[800]\tvalid_0's l1: 25.6604\n",
      "[900]\tvalid_0's l1: 25.5778\n",
      "[1000]\tvalid_0's l1: 25.497\n",
      "[1100]\tvalid_0's l1: 25.4305\n",
      "[1200]\tvalid_0's l1: 25.379\n",
      "[1300]\tvalid_0's l1: 25.3424\n",
      "[1400]\tvalid_0's l1: 25.3076\n",
      "[1500]\tvalid_0's l1: 25.2791\n",
      "[1600]\tvalid_0's l1: 25.262\n",
      "[1700]\tvalid_0's l1: 25.246\n",
      "[1800]\tvalid_0's l1: 25.2288\n",
      "[1900]\tvalid_0's l1: 25.217\n",
      "[2000]\tvalid_0's l1: 25.2049\n",
      "[2100]\tvalid_0's l1: 25.1968\n",
      "[2200]\tvalid_0's l1: 25.194\n",
      "[2300]\tvalid_0's l1: 25.187\n",
      "[2400]\tvalid_0's l1: 25.181\n",
      "[2500]\tvalid_0's l1: 25.1811\n",
      "Early stopping, best iteration is:\n",
      "[2420]\tvalid_0's l1: 25.1772\n",
      "-\n",
      "Fold 3\n",
      "Training until validation scores don't improve for 100 rounds\n",
      "[100]\tvalid_0's l1: 29.0195\n",
      "[200]\tvalid_0's l1: 27.5633\n",
      "[300]\tvalid_0's l1: 26.9234\n",
      "[400]\tvalid_0's l1: 26.5348\n",
      "[500]\tvalid_0's l1: 26.2719\n",
      "[600]\tvalid_0's l1: 26.1003\n",
      "[700]\tvalid_0's l1: 25.944\n",
      "[800]\tvalid_0's l1: 25.8503\n",
      "[900]\tvalid_0's l1: 25.7475\n",
      "[1000]\tvalid_0's l1: 25.6613\n",
      "[1100]\tvalid_0's l1: 25.5933\n",
      "[1200]\tvalid_0's l1: 25.5537\n",
      "[1300]\tvalid_0's l1: 25.5207\n",
      "[1400]\tvalid_0's l1: 25.4915\n",
      "[1500]\tvalid_0's l1: 25.4603\n",
      "[1600]\tvalid_0's l1: 25.429\n",
      "[1700]\tvalid_0's l1: 25.408\n",
      "[1800]\tvalid_0's l1: 25.396\n",
      "[1900]\tvalid_0's l1: 25.3789\n",
      "[2000]\tvalid_0's l1: 25.3613\n",
      "[2100]\tvalid_0's l1: 25.3478\n",
      "[2200]\tvalid_0's l1: 25.3378\n",
      "[2300]\tvalid_0's l1: 25.3377\n",
      "Early stopping, best iteration is:\n",
      "[2223]\tvalid_0's l1: 25.3329\n",
      "-\n",
      "Fold 4\n",
      "Training until validation scores don't improve for 100 rounds\n",
      "[100]\tvalid_0's l1: 28.886\n",
      "[200]\tvalid_0's l1: 27.3523\n",
      "[300]\tvalid_0's l1: 26.8106\n",
      "[400]\tvalid_0's l1: 26.4617\n",
      "[500]\tvalid_0's l1: 26.2068\n",
      "[600]\tvalid_0's l1: 26.0176\n",
      "[700]\tvalid_0's l1: 25.8654\n",
      "[800]\tvalid_0's l1: 25.7463\n",
      "[900]\tvalid_0's l1: 25.6465\n",
      "[1000]\tvalid_0's l1: 25.5742\n",
      "[1100]\tvalid_0's l1: 25.5225\n",
      "[1200]\tvalid_0's l1: 25.4656\n",
      "[1300]\tvalid_0's l1: 25.4319\n",
      "[1400]\tvalid_0's l1: 25.4054\n",
      "[1500]\tvalid_0's l1: 25.3751\n",
      "[1600]\tvalid_0's l1: 25.3504\n",
      "[1700]\tvalid_0's l1: 25.3329\n",
      "[1800]\tvalid_0's l1: 25.313\n",
      "[1900]\tvalid_0's l1: 25.2891\n",
      "[2000]\tvalid_0's l1: 25.2803\n",
      "[2100]\tvalid_0's l1: 25.2767\n",
      "[2200]\tvalid_0's l1: 25.2672\n",
      "[2300]\tvalid_0's l1: 25.2619\n",
      "[2400]\tvalid_0's l1: 25.2557\n",
      "[2500]\tvalid_0's l1: 25.2521\n",
      "Early stopping, best iteration is:\n",
      "[2437]\tvalid_0's l1: 25.2499\n",
      "-\n",
      "Fold 5\n",
      "Training until validation scores don't improve for 100 rounds\n",
      "[100]\tvalid_0's l1: 28.9526\n",
      "[200]\tvalid_0's l1: 27.416\n",
      "[300]\tvalid_0's l1: 26.7666\n",
      "[400]\tvalid_0's l1: 26.4499\n",
      "[500]\tvalid_0's l1: 26.1804\n",
      "[600]\tvalid_0's l1: 25.9908\n",
      "[700]\tvalid_0's l1: 25.8419\n",
      "[800]\tvalid_0's l1: 25.7353\n",
      "[900]\tvalid_0's l1: 25.637\n",
      "[1000]\tvalid_0's l1: 25.5448\n",
      "[1100]\tvalid_0's l1: 25.4816\n",
      "[1200]\tvalid_0's l1: 25.4387\n",
      "[1300]\tvalid_0's l1: 25.4006\n",
      "[1400]\tvalid_0's l1: 25.3651\n",
      "[1500]\tvalid_0's l1: 25.3442\n",
      "[1600]\tvalid_0's l1: 25.3257\n",
      "[1700]\tvalid_0's l1: 25.3045\n",
      "[1800]\tvalid_0's l1: 25.2781\n",
      "[1900]\tvalid_0's l1: 25.2552\n",
      "[2000]\tvalid_0's l1: 25.245\n",
      "[2100]\tvalid_0's l1: 25.2343\n",
      "[2200]\tvalid_0's l1: 25.2251\n",
      "[2300]\tvalid_0's l1: 25.2169\n",
      "[2400]\tvalid_0's l1: 25.21\n",
      "[2500]\tvalid_0's l1: 25.2029\n",
      "[2600]\tvalid_0's l1: 25.1982\n",
      "[2700]\tvalid_0's l1: 25.196\n",
      "Early stopping, best iteration is:\n",
      "[2629]\tvalid_0's l1: 25.1953\n"
     ]
    }
   ],
   "source": [
    "###lightgbm 데이터 다쓰는것 범주형 다쓰는거임\n",
    "lightgbmOof2=np.zeros(len(kfoldData))\n",
    "lightgbmPre2=np.zeros(len(kfoldTest))\n",
    "folds=KFold(n_splits=5,shuffle=True,random_state=15)\n",
    "feature_importance_df2 = pd.DataFrame()\n",
    "features2=kfoldData.columns\n",
    "for order, (train_idx,valid_idx) in enumerate(folds.split(kfoldData, kfoldTarget)):\n",
    "    print('-')\n",
    "    print(\"Fold {}\".format(order + 1))\n",
    "    trn_data = lgb.Dataset(kfoldData.iloc[train_idx], label=kfoldTarget.iloc[train_idx])\n",
    "    val_data = lgb.Dataset(kfoldData.iloc[valid_idx], label=kfoldTarget.iloc[valid_idx])\n",
    "\n",
    "    num_round = 10000          ###boosting 10000번 한다는소리임 verbose_eval 은 100번마다 출력함\n",
    "    ###early는 100번동안 효과없으면 그만둠\n",
    "    \n",
    "    clf = lgb.train(param, trn_data, num_round, valid_sets = [val_data], verbose_eval=100, early_stopping_rounds=100)\n",
    "    #훈련해서 모수가 조정된 모델에 valid 데이터 넣어서 예측값 보여주는것\n",
    "    lightgbmOof2[valid_idx] = clf.predict(kfoldData.iloc[valid_idx], num_iteration=clf.best_iteration)\n",
    "    ###5개모델 다더해서 나누면 최종 예측치 되는것\n",
    "    lightgbmPre2 += clf.predict(kfoldTest, num_iteration=clf.best_iteration) / folds.n_splits\n",
    "    \n",
    "    fold_importance_df2 = pd.DataFrame()\n",
    "    fold_importance_df2[\"feature\"]=features2\n",
    "    fold_importance_df2[\"importance\"] = clf.feature_importance()\n",
    "    fold_importance_df2[\"order\"] = order + 1\n",
    "    \n",
    "    feature_importance_df2 = pd.concat([feature_importance_df2, fold_importance_df2], axis=0)"
   ]
  },
  {
   "cell_type": "code",
   "execution_count": 115,
   "metadata": {},
   "outputs": [
    {
     "data": {
      "image/png": "[encoded data removed]",
      "text/plain": [
       "<Figure size 1008x1800 with 1 Axes>"
      ]
     },
     "metadata": {
      "needs_background": "light"
     },
     "output_type": "display_data"
    }
   ],
   "source": [
    "cols = (feature_importance_df2[[\"feature\", \"importance\"]].groupby(\"feature\").mean()\n",
    "        .sort_values(by=\"importance\", ascending=False)[:30].index)\n",
    "###각변수들 평규내서 위에서 상위 1000개뽑는것 근디 총변수가 180개인데 의미있나?\n",
    "best_features = feature_importance_df2.loc[feature_importance_df2.feature.isin(cols)]\n",
    "                ###900개중에서 해당하는 변수가 중복으로 뽑히게됨 결과로 보니 그런듯\n",
    "    ###그런데 그림으로 그릴때는 이게 합쳐지는듯\n",
    "plt.figure(figsize=(14,25))\n",
    "sns.barplot(x=\"importance\",\n",
    "            y=\"feature\",\n",
    "            data=best_features.sort_values(by=\"importance\",\n",
    "                                           ascending=False))\n",
    "plt.title('LightGBM Features (avg over folds)')\n",
    "plt.tight_layout()\n",
    "plt.savefig('all_lgbm_importances.png')"
   ]
  },
  {
   "cell_type": "code",
   "execution_count": 116,
   "metadata": {},
   "outputs": [
    {
     "data": {
      "text/plain": [
       "count    1393.000000\n",
       "mean        3.773415\n",
       "std         4.620306\n",
       "min         0.007808\n",
       "25%         1.349899\n",
       "50%         2.650733\n",
       "75%         4.829539\n",
       "max        90.467486\n",
       "dtype: float64"
      ]
     },
     "execution_count": 116,
     "metadata": {},
     "output_type": "execute_result"
    }
   ],
   "source": [
    "#lightgbm단일모델 범주형 다씀\n",
    "(abs(testTarget-lightgbmPre2)/testTarget*100).describe()"
   ]
  },
  {
   "cell_type": "code",
   "execution_count": 117,
   "metadata": {},
   "outputs": [
    {
     "data": {
      "text/plain": [
       "0.9835394503223169"
      ]
     },
     "execution_count": 117,
     "metadata": {},
     "output_type": "execute_result"
    }
   ],
   "source": [
    "1-sum((testTarget-lightgbmPre2)**2)/SST"
   ]
  },
  {
   "cell_type": "code",
   "execution_count": 125,
   "metadata": {},
   "outputs": [
    {
     "data": {
      "text/plain": [
       "(array([469.69553347, 247.50692795, 358.02750286, ..., 539.41302518,\n",
       "        482.68145112, 530.2591245 ]),\n",
       " array([474.9750061 , 266.53222656, 348.71643066, ..., 402.61828613,\n",
       "        580.12432861, 579.50842285]),\n",
       " array([381.85740189, 440.98354504, 518.73529631, ..., 510.66263535,\n",
       "        539.11124866, 560.521144  ]),\n",
       " array([673.22294932, 534.40934814, 620.56345739, ..., 777.52869278,\n",
       "        802.78370286, 766.76955175]),\n",
       " array([498.9379271 , 559.41207097, 433.78184627, ..., 347.20512638,\n",
       "        370.43438173, 377.37573054]),\n",
       " array([500.35329437, 556.52734375, 437.10054016, ..., 344.23353577,\n",
       "        364.36100769, 372.77108002]),\n",
       " array([508.61562536, 573.39735375, 436.93676062, ..., 339.78004654,\n",
       "        370.21615413, 373.30667018]),\n",
       " array([703.5101574 , 696.06351859, 366.28710609, ..., 367.93326442,\n",
       "        406.9195554 , 419.03186355]))"
      ]
     },
     "execution_count": 125,
     "metadata": {},
     "output_type": "execute_result"
    }
   ],
   "source": [
    "###단일로 stack model\n",
    "lightgbmOof,xgbOof,rfOof,olsOof,lightgbmPre,xgbPre,rfPre,olsPre"
   ]
  },
  {
   "cell_type": "code",
   "execution_count": 159,
   "metadata": {},
   "outputs": [],
   "source": [
    "stackData=pd.DataFrame({\"rf\":rfOof, \"xgb\":xgbOof, \"light\":lightgbmOof,\"ols\":olsOof})"
   ]
  },
  {
   "cell_type": "code",
   "execution_count": 160,
   "metadata": {},
   "outputs": [],
   "source": [
    "stackTestData=pd.DataFrame({\"rf\":rfPre, \"xgb\":xgbPre, \"light\":lightgbmPre,\"ols\":olsPre})"
   ]
  },
  {
   "cell_type": "code",
   "execution_count": 166,
   "metadata": {},
   "outputs": [],
   "source": [
    "stackPre=np.zeros(len(kfoldTest))\n",
    "stackOof=np.zeros(len(stackData))"
   ]
  },
  {
   "cell_type": "code",
   "execution_count": 161,
   "metadata": {},
   "outputs": [
    {
     "name": "stdout",
     "output_type": "stream",
     "text": [
      "xgboost\n",
      "[17:27:56] WARNING: C:/Jenkins/workspace/xgboost-win64_release_0.90/src/objective/regression_obj.cu:152: reg:linear is now deprecated in favor of reg:squarederror.\n",
      "[0]\ttrain-mae:580.916\tvalid-mae:581.838\n",
      "Multiple eval metrics have been passed: 'valid-mae' will be used for early stopping.\n",
      "\n",
      "Will train until valid-mae hasn't improved in 500 rounds.\n",
      "[100]\ttrain-mae:23.7346\tvalid-mae:24.9185\n",
      "[200]\ttrain-mae:23.3355\tvalid-mae:24.9712\n",
      "[300]\ttrain-mae:22.973\tvalid-mae:25.0193\n",
      "[400]\ttrain-mae:22.6457\tvalid-mae:25.0645\n",
      "[500]\ttrain-mae:22.3272\tvalid-mae:25.1118\n",
      "Stopping. Best iteration:\n",
      "[80]\ttrain-mae:23.8225\tvalid-mae:24.9132\n",
      "\n",
      "[17:30:47] WARNING: C:/Jenkins/workspace/xgboost-win64_release_0.90/src/objective/regression_obj.cu:152: reg:linear is now deprecated in favor of reg:squarederror.\n",
      "[0]\ttrain-mae:581.09\tvalid-mae:581.182\n",
      "Multiple eval metrics have been passed: 'valid-mae' will be used for early stopping.\n",
      "\n",
      "Will train until valid-mae hasn't improved in 500 rounds.\n",
      "[100]\ttrain-mae:23.7441\tvalid-mae:24.9106\n",
      "[200]\ttrain-mae:23.299\tvalid-mae:24.9637\n",
      "[300]\ttrain-mae:22.9338\tvalid-mae:25.0207\n",
      "[400]\ttrain-mae:22.6007\tvalid-mae:25.0714\n",
      "[500]\ttrain-mae:22.2582\tvalid-mae:25.1199\n",
      "Stopping. Best iteration:\n",
      "[77]\ttrain-mae:23.8309\tvalid-mae:24.9067\n",
      "\n",
      "[17:33:32] WARNING: C:/Jenkins/workspace/xgboost-win64_release_0.90/src/objective/regression_obj.cu:152: reg:linear is now deprecated in favor of reg:squarederror.\n",
      "[0]\ttrain-mae:581.47\tvalid-mae:579.544\n",
      "Multiple eval metrics have been passed: 'valid-mae' will be used for early stopping.\n",
      "\n",
      "Will train until valid-mae hasn't improved in 500 rounds.\n",
      "[100]\ttrain-mae:23.7225\tvalid-mae:25.1639\n",
      "[200]\ttrain-mae:23.3255\tvalid-mae:25.2217\n",
      "[300]\ttrain-mae:22.9486\tvalid-mae:25.2778\n",
      "[400]\ttrain-mae:22.5804\tvalid-mae:25.323\n",
      "[500]\ttrain-mae:22.2422\tvalid-mae:25.3664\n",
      "Stopping. Best iteration:\n",
      "[83]\ttrain-mae:23.7803\tvalid-mae:25.1547\n",
      "\n",
      "[100]\ttrain-mae:23.7179\tvalid-mae:25.0653\n",
      "[200]\ttrain-mae:23.2932\tvalid-mae:25.1291\n",
      "[300]\ttrain-mae:22.91\tvalid-mae:25.18\n",
      "[400]\ttrain-mae:22.5595\tvalid-mae:25.2281\n",
      "[500]\ttrain-mae:22.2029\tvalid-mae:25.2704\n",
      "Stopping. Best iteration:\n",
      "[72]\ttrain-mae:23.854\tvalid-mae:25.0484\n",
      "\n",
      "[17:39:28] WARNING: C:/Jenkins/workspace/xgboost-win64_release_0.90/src/objective/regression_obj.cu:152: reg:linear is now deprecated in favor of reg:squarederror.\n",
      "[0]\ttrain-mae:580.94\tvalid-mae:581.744\n",
      "Multiple eval metrics have been passed: 'valid-mae' will be used for early stopping.\n",
      "\n",
      "Will train until valid-mae hasn't improved in 500 rounds.\n",
      "[100]\ttrain-mae:23.7208\tvalid-mae:24.9882\n",
      "[200]\ttrain-mae:23.3137\tvalid-mae:25.0417\n",
      "[300]\ttrain-mae:22.921\tvalid-mae:25.0997\n",
      "[400]\ttrain-mae:22.5641\tvalid-mae:25.1461\n",
      "[500]\ttrain-mae:22.2275\tvalid-mae:25.1875\n",
      "Stopping. Best iteration:\n",
      "[75]\ttrain-mae:23.8371\tvalid-mae:24.9751\n",
      "\n"
     ]
    }
   ],
   "source": [
    "print(\"xgboost\") \n",
    "sOof = np.zeros(len(kfoldDataWithBig))\n",
    "sPre = np.zeros(len(kfoldTestWithBig)) \n",
    "folds=KFold(n_splits=5,shuffle=True,random_state=15)\n",
    "for n_fold, (trn_idx, val_idx) in enumerate(folds.split(stackData,kfoldTarget)) : \n",
    "    trn_x, trn_y = stackData.iloc[trn_idx], kfoldTarget[trn_idx] \n",
    "    val_x, val_y = stackData.iloc[val_idx], kfoldTarget[val_idx] \n",
    "    params = {'objective': 'reg:linear', \n",
    "              'booster':'gbtree',                   ###Tree base 모델\n",
    "              'eval_metric': 'mae', \n",
    "              'eta': 0.1,           ###학습속도 일반적으로 0.01~0.2\n",
    "              'max_depth': 10,    ###트리 최대깊이 일반적으로 3~10\n",
    "              'subsample': 0.9,    ###각 트리마다 관측 데이터 샘플링 비율 0.5~1\n",
    "              'colsample_bytree': 0.9,   ###각 트리마다 변수 샘플링 비율 0.5~1\n",
    "              'alpha':0.001,                    ###규제항 \n",
    "              'random_state': 42, \n",
    "              'verbosity': 1}                ###동작메시지 출력\n",
    "    tr_data = xgb.DMatrix(trn_x, trn_y) \n",
    "    va_data = xgb.DMatrix(val_x, val_y) \n",
    "    watchlist = [(tr_data, 'train'), (va_data, 'valid')] \n",
    "    model_xgb = xgb.train(params, tr_data, 10000, watchlist, maximize=False, early_stopping_rounds = 500, verbose_eval=100) \n",
    "    \n",
    "    test_data = xgb.DMatrix(stackTestData) \n",
    "    sPre += model_xgb.predict(test_data) / folds.n_splits \n",
    "    sOof[val_idx] = model_xgb.predict(va_data)"
   ]
  },
  {
   "cell_type": "code",
   "execution_count": 163,
   "metadata": {},
   "outputs": [
    {
     "data": {
      "text/plain": [
       "count    1393.000000\n",
       "mean        3.929314\n",
       "std         5.266519\n",
       "min         0.010009\n",
       "25%         1.249192\n",
       "50%         2.751947\n",
       "75%         4.917432\n",
       "max       105.471923\n",
       "dtype: float64"
      ]
     },
     "execution_count": 163,
     "metadata": {},
     "output_type": "execute_result"
    }
   ],
   "source": [
    "#stack단일모델 xgboost 이용 \n",
    "(abs(testTarget-sPre)/testTarget*100).describe()"
   ]
  },
  {
   "cell_type": "code",
   "execution_count": 164,
   "metadata": {},
   "outputs": [
    {
     "data": {
      "text/plain": [
       "0.9812808627603428"
      ]
     },
     "execution_count": 164,
     "metadata": {},
     "output_type": "execute_result"
    }
   ],
   "source": [
    "1-sum((testTarget-sPre)**2)/SST"
   ]
  },
  {
   "cell_type": "code",
   "execution_count": 167,
   "metadata": {},
   "outputs": [],
   "source": [
    "###lightgbm 파라미터\n",
    "param = {'num_leaves': 200,                 #default=31\n",
    "         'min_data_in_leaf': 10,            #default=20\n",
    "         'objective':'regression',\n",
    "         'max_depth': -1,\n",
    "         'learning_rate': 0.01,           ###트리만들때마다 0.01 씩 가중치 곱함\n",
    "         \"boosting\": \"gbdt\",                ###워래 우리가 아는 gbdt 씀\n",
    "         \"feature_fraction\": 0.9,          ###변수 90%만 쓰게됨\n",
    "         \"bagging_freq\": 1,                 ###bagging 의빈도\n",
    "         \"bagging_fraction\": 0.9,        ###데이터를 90%만 쓰게됨 resampling 없이\n",
    "         \"bagging_seed\": 11,              ###bagging 을 위한 seed\n",
    "         \"metric\": 'mae',\n",
    "         \"lambda_l1\": 0.1,                  ###오메가 항에서 람다 말할는거임 가중치 옆에 붙는 weights 숫자가 클수록 보수적\n",
    "         \"verbosity\": -1}                      ###보수적이라는말은 트리생성을 잘안할려고함"
   ]
  },
  {
   "cell_type": "code",
   "execution_count": 168,
   "metadata": {},
   "outputs": [
    {
     "name": "stdout",
     "output_type": "stream",
     "text": [
      "-\n",
      "Fold 1\n",
      "Training until validation scores don't improve for 100 rounds\n",
      "[100]\tvalid_0's l1: 85.6371\n",
      "[200]\tvalid_0's l1: 39.6281\n",
      "[300]\tvalid_0's l1: 27.9326\n",
      "[400]\tvalid_0's l1: 25.9065\n",
      "[500]\tvalid_0's l1: 25.6282\n",
      "[600]\tvalid_0's l1: 25.6048\n",
      "Early stopping, best iteration is:\n",
      "[593]\tvalid_0's l1: 25.6041\n",
      "-\n",
      "Fold 2\n",
      "Training until validation scores don't improve for 100 rounds\n",
      "[100]\tvalid_0's l1: 84.9143\n",
      "[200]\tvalid_0's l1: 39.3675\n",
      "[300]\tvalid_0's l1: 27.7562\n",
      "[400]\tvalid_0's l1: 25.7768\n",
      "[500]\tvalid_0's l1: 25.5123\n",
      "[600]\tvalid_0's l1: 25.4889\n",
      "Early stopping, best iteration is:\n",
      "[597]\tvalid_0's l1: 25.4886\n",
      "-\n",
      "Fold 3\n",
      "Training until validation scores don't improve for 100 rounds\n",
      "[100]\tvalid_0's l1: 85.0721\n",
      "[200]\tvalid_0's l1: 39.4526\n",
      "[300]\tvalid_0's l1: 27.9211\n",
      "[400]\tvalid_0's l1: 25.9716\n",
      "[500]\tvalid_0's l1: 25.7235\n",
      "[600]\tvalid_0's l1: 25.7089\n",
      "Early stopping, best iteration is:\n",
      "[565]\tvalid_0's l1: 25.7072\n",
      "-\n",
      "Fold 4\n",
      "Training until validation scores don't improve for 100 rounds\n",
      "[100]\tvalid_0's l1: 85.4702\n",
      "[200]\tvalid_0's l1: 39.5065\n",
      "[300]\tvalid_0's l1: 27.8936\n",
      "[400]\tvalid_0's l1: 25.9499\n",
      "[500]\tvalid_0's l1: 25.701\n",
      "[600]\tvalid_0's l1: 25.6822\n",
      "Early stopping, best iteration is:\n",
      "[595]\tvalid_0's l1: 25.6818\n",
      "-\n",
      "Fold 5\n",
      "Training until validation scores don't improve for 100 rounds\n",
      "[100]\tvalid_0's l1: 84.8518\n",
      "[200]\tvalid_0's l1: 39.2207\n",
      "[300]\tvalid_0's l1: 27.7138\n",
      "[400]\tvalid_0's l1: 25.7886\n",
      "[500]\tvalid_0's l1: 25.5502\n",
      "[600]\tvalid_0's l1: 25.5386\n",
      "Early stopping, best iteration is:\n",
      "[562]\tvalid_0's l1: 25.5359\n"
     ]
    }
   ],
   "source": [
    "for order, (train_idx,valid_idx) in enumerate(folds.split(stackData, kfoldTarget)):\n",
    "    print('-')\n",
    "    print(\"Fold {}\".format(order + 1))\n",
    "    trn_data = lgb.Dataset(stackData.iloc[train_idx], label=kfoldTarget.iloc[train_idx])\n",
    "    val_data = lgb.Dataset(stackData.iloc[valid_idx], label=kfoldTarget.iloc[valid_idx])\n",
    "\n",
    "    num_round = 10000          ###boosting 10000번 한다는소리임 verbose_eval 은 100번마다 출력함\n",
    "    ###early는 100번동안 효과없으면 그만둠\n",
    "    \n",
    "    clf = lgb.train(param, trn_data, num_round, valid_sets = [val_data], verbose_eval=100, early_stopping_rounds=100)\n",
    "    #훈련해서 모수가 조정된 모델에 valid 데이터 넣어서 예측값 보여주는것\n",
    "    stackOof[valid_idx] = clf.predict(stackData.iloc[valid_idx], num_iteration=clf.best_iteration)\n",
    "    ###5개모델 다더해서 나누면 최종 예측치 되는것\n",
    "    stackPre += clf.predict(stackTestData, num_iteration=clf.best_iteration) / folds.n_splits"
   ]
  },
  {
   "cell_type": "code",
   "execution_count": 169,
   "metadata": {
    "scrolled": false
   },
   "outputs": [
    {
     "data": {
      "text/plain": [
       "count    1393.000000\n",
       "mean        3.956096\n",
       "std         5.300561\n",
       "min         0.001345\n",
       "25%         1.278767\n",
       "50%         2.764292\n",
       "75%         4.924091\n",
       "max       105.342110\n",
       "dtype: float64"
      ]
     },
     "execution_count": 169,
     "metadata": {},
     "output_type": "execute_result"
    }
   ],
   "source": [
    "#stack단일모델 \n",
    "(abs(testTarget-stackPre)/testTarget*100).describe()"
   ]
  }
 ],
 "metadata": {
  "kernelspec": {
   "display_name": "Python 3",
   "language": "python",
   "name": "python3"
  },
  "language_info": {
   "codemirror_mode": {
    "name": "ipython",
    "version": 3
   },
   "file_extension": ".py",
   "mimetype": "text/x-python",
   "name": "python",
   "nbconvert_exporter": "python",
   "pygments_lexer": "ipython3",
   "version": "3.7.4"
  }
 },
 "nbformat": 4,
 "nbformat_minor": 2
}
